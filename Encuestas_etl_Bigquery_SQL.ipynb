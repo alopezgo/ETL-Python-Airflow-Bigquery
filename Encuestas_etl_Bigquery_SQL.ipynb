{
 "cells": [
  {
   "cell_type": "code",
   "execution_count": 180,
   "metadata": {},
   "outputs": [],
   "source": [
    "#! pip install cloud-sql-python-connector[\"pg8000\"]"
   ]
  },
  {
   "cell_type": "code",
   "execution_count": 181,
   "metadata": {},
   "outputs": [],
   "source": [
    "import io\n",
    "from datetime import datetime, time, timedelta\n",
    "\n",
    "import pandas as pd\n",
    "import pg8000\n",
    "import pytz\n",
    "import requests\n",
    "import sqlalchemy\n",
    "from google.cloud import bigquery\n",
    "from google.cloud.sql.connector import Connector\n",
    "from sqlalchemy import text"
   ]
  },
  {
   "cell_type": "code",
   "execution_count": 182,
   "metadata": {},
   "outputs": [],
   "source": [
    "fmt = '%Y-%m-%dT%H:%M:%SZ'\n",
    "cl = pytz.timezone(\"America/Santiago\")\n",
    "utc = pytz.utc"
   ]
  },
  {
   "cell_type": "code",
   "execution_count": null,
   "metadata": {},
   "outputs": [],
   "source": [
    "def create_connection():\n",
    "    POSTGRES_CONNECTION_NAME = \"conexion-datos-rdf:us-central1:rdf-db\"\n",
    "    POSTGRES_USER = \"postgres\"\n",
    "    POSTGRES_PASS = \"n3FLOvsqa8nqtjym\"\n",
    "    POSTGRES_DB = \"rdf-db\"\n",
    "\n",
    "    connector = Connector()\n",
    "\n",
    "    def init_connection_engine() -> sqlalchemy.engine.Engine:\n",
    "        def getconn() -> pg8000.dbapi.Connection:\n",
    "            conn: pg8000.dbapi.Connection = connector.connect(\n",
    "                POSTGRES_CONNECTION_NAME,\n",
    "                \"pg8000\",\n",
    "                user=POSTGRES_USER,\n",
    "                password=POSTGRES_PASS,\n",
    "                db=POSTGRES_DB,\n",
    "            )\n",
    "            return conn\n",
    "\n",
    "        engine = sqlalchemy.create_engine(\n",
    "            \"postgresql+pg8000://\",\n",
    "            creator=getconn,\n",
    "        )\n",
    "        engine.dialect.description_encoding = None\n",
    "        return engine\n",
    "\n",
    "    db = init_connection_engine()\n",
    "\n",
    "    return db"
   ]
  },
  {
   "cell_type": "code",
   "execution_count": 184,
   "metadata": {},
   "outputs": [],
   "source": [
    "df = pd.read_csv(\"C:Users/alopez/Desktop/Consolidado_encuestas.csv\")\n",
    "#df['proveedores_consumo'].apply(lambda x : x.split())"
   ]
  },
  {
   "cell_type": "code",
   "execution_count": 185,
   "metadata": {},
   "outputs": [
    {
     "data": {
      "text/plain": [
       "Región Metropolitana de Santiago                    147\n",
       "Región de Valparaíso                                  5\n",
       "Región del Maule                                      2\n",
       "Región de La Araucanía                                2\n",
       "Región de Magallanes y la Antártica Chilena           1\n",
       "Región de Los Lagos                                   1\n",
       "Región del Libertador General Bernardo O’Higgins      1\n",
       "Región del Biobío                                     1\n",
       "Name: region_declarada, dtype: int64"
      ]
     },
     "execution_count": 185,
     "metadata": {},
     "output_type": "execute_result"
    }
   ],
   "source": [
    "df['region_declarada'].value_counts()"
   ]
  },
  {
   "cell_type": "code",
   "execution_count": 186,
   "metadata": {},
   "outputs": [],
   "source": [
    "df['region_declarada'] = df['region_declarada'].replace(['Región Metropolitana de Santiago', \n",
    "'Región de Valparaíso', 'Región del Maule', 'Región de La Araucanía', 'Región de Los Lagos',\n",
    "'Región del Biobío', 'Región del Libertador General Bernardo O’Higgins', \n",
    "'Región de Magallanes y la Antártica Chilena' ], ['Metropolitana','Valparaíso', 'Maule', 'Araucanía',\n",
    "'Los Lagos', 'Biobío', \"O'Higgins\", 'Magallanes'])"
   ]
  },
  {
   "cell_type": "code",
   "execution_count": 187,
   "metadata": {},
   "outputs": [
    {
     "data": {
      "text/plain": [
       "Metropolitana    147\n",
       "Valparaíso         5\n",
       "Araucanía          2\n",
       "Maule              2\n",
       "Magallanes         1\n",
       "O'Higgins          1\n",
       "Biobío             1\n",
       "Los Lagos          1\n",
       "Name: region_declarada, dtype: int64"
      ]
     },
     "execution_count": 187,
     "metadata": {},
     "output_type": "execute_result"
    }
   ],
   "source": [
    "df['region_declarada'].value_counts()"
   ]
  },
  {
   "cell_type": "code",
   "execution_count": 188,
   "metadata": {},
   "outputs": [],
   "source": [
    "df = df.rename(columns={\n",
    "    \"consumo_od_podcasts\": \"consumo_od\", \n",
    "    \"proveedores_consumo\": \"consumo_distribudor\", \n",
    "    \"favoritos_consumo\": \"consumo_favoritos\", \n",
    "    \"interes_consumo\": \"consumo_interes\"})"
   ]
  },
  {
   "cell_type": "code",
   "execution_count": 189,
   "metadata": {},
   "outputs": [],
   "source": [
    "df['consumo_od'] = df['consumo_od'].replace(['No', 'Sí'], ['0','1'])\n",
    "df['consumo_od'] = df['consumo_od'].astype(bool)"
   ]
  },
  {
   "cell_type": "code",
   "execution_count": 190,
   "metadata": {},
   "outputs": [],
   "source": [
    "df['datetime'] = pd.to_datetime(df['datetime'])"
   ]
  },
  {
   "cell_type": "code",
   "execution_count": 191,
   "metadata": {},
   "outputs": [
    {
     "data": {
      "text/plain": [
       "0                                   []\n",
       "1                                   []\n",
       "2                                   []\n",
       "3                                   []\n",
       "4                                   []\n",
       "                    ...               \n",
       "264      [Música,  Historia,  Ficción]\n",
       "265             [Historia,  Política ]\n",
       "266    [Misceláneo,  Humor,  Historia]\n",
       "267      [Misceláneo,  Humor,  Música]\n",
       "268                           [Música]\n",
       "Name: consumo_favoritos, Length: 269, dtype: object"
      ]
     },
     "execution_count": 191,
     "metadata": {},
     "output_type": "execute_result"
    }
   ],
   "source": [
    "import numpy as np\n",
    "df['consumo_favoritos'] = df['consumo_favoritos'].str.split(',')\n",
    "df['consumo_favoritos'] = df['consumo_favoritos'].fillna('').apply(list)\n",
    "df['consumo_interes'] = df['consumo_interes'].str.split(',')\n",
    "df['consumo_interes'] = df['consumo_interes'].fillna('').apply(list)\n",
    "df['consumo_distribudor'] = df['consumo_distribudor'].str.split(',')\n",
    "df['consumo_distribudor'] = df['consumo_distribudor'].fillna('').apply(list)\n",
    "df['subcategoria_favoritos'] = df['subcategoria_favoritos'].str.split(',')\n",
    "df['subcategoria_favoritos'] = df['subcategoria_favoritos'].fillna('').apply(list)\n",
    "df['categoria_favoritos'] = df['categoria_favoritos'].str.split(',')\n",
    "df['categoria_favoritos'] = df['categoria_favoritos'].fillna('').apply(list)\n",
    "df['subcategoria_interes'] = df['subcategoria_interes'].str.split(',')\n",
    "df['subcategoria_interes'] = df['subcategoria_interes'].fillna('').apply(list)\n",
    "df['categoria_interes'] = df['categoria_interes'].str.split(',')\n",
    "df['categoria_interes'] = df['categoria_interes'].fillna('').apply(list)"
   ]
  },
  {
   "cell_type": "code",
   "execution_count": 193,
   "metadata": {},
   "outputs": [],
   "source": [
    "df = df[[\"id_encuesta\",\"email\",\"datetime\",\"soporte\",\"region_declarada\",\n",
    "\"consumo_distribudor\",\"consumo_favoritos\",\"categoria_favoritos\",\n",
    "\"subcategoria_favoritos\",\"consumo_interes\",\"categoria_interes\", \n",
    "\"subcategoria_interes\", \"consumo_od\"]]"
   ]
  },
  {
   "cell_type": "code",
   "execution_count": null,
   "metadata": {},
   "outputs": [],
   "source": [
    "df.sample()"
   ]
  },
  {
   "cell_type": "code",
   "execution_count": null,
   "metadata": {},
   "outputs": [],
   "source": [
    "df_final = df.copy()\n",
    "schema = \"usuarios\"\n",
    "table = \"encuestas\"\n",
    "\n",
    "columnas = {\"id_encuesta\": \"\"}\n",
    "\n",
    "chunk_size = 32767 // len(df_final.columns)\n",
    "chunks = (len(df_final) // chunk_size) + 1\n",
    "print(f\"Se subirán {chunks} chunks de con un máximo de {chunk_size} filas\")\n",
    "\n",
    "connection = create_connection()\n",
    "\n",
    "connection.execute('''TRUNCATE TABLE {0}.{1}'''.format(schema, table))\n",
    "df_final.to_sql(table, connection, schema=schema, if_exists='append', method='multi', index=False, chunksize=chunk_size)\n",
    "print(\"Datos cargados exitosamente a la ficha de los usuarios\")"
   ]
  },
  {
   "cell_type": "code",
   "execution_count": 153,
   "metadata": {},
   "outputs": [
    {
     "name": "stdout",
     "output_type": "stream",
     "text": [
      "LoadJob<project=conexion-datos-rdf, location=US, id=c23060fe-7bca-41b1-a441-fef3da06e3a2>\n"
     ]
    }
   ],
   "source": [
    "bq_table = \"conexion-datos-rdf.encuestas.consolidado\"\n",
    "\n",
    "client = bigquery.Client()\n",
    "\n",
    "job_config = bigquery.LoadJobConfig(\n",
    "        schema=[\n",
    "                bigquery.SchemaField(\"id_encuesta\", bigquery.enums.SqlTypeNames.STRING),\n",
    "                bigquery.SchemaField(\"email\", bigquery.enums.SqlTypeNames.STRING),\n",
    "                bigquery.SchemaField(\"datetime\", bigquery.enums.SqlTypeNames.DATETIME),\n",
    "                bigquery.SchemaField(\"soporte\", bigquery.enums.SqlTypeNames.STRING),\n",
    "                bigquery.SchemaField(\"region_declarada\", bigquery.enums.SqlTypeNames.STRING),\n",
    "                bigquery.SchemaField(\"consumo_distribudor\", bigquery.enums.SqlTypeNames.STRING),\n",
    "                bigquery.SchemaField(\"consumo_favoritos\", bigquery.enums.SqlTypeNames.STRING),\n",
    "                bigquery.SchemaField(\"categoria_favoritos\", bigquery.enums.SqlTypeNames.STRING),\n",
    "                bigquery.SchemaField(\"subcategoria_favoritos\", bigquery.enums.SqlTypeNames.STRING),\n",
    "                bigquery.SchemaField(\"consumo_interes\", bigquery.enums.SqlTypeNames.STRING),\n",
    "                bigquery.SchemaField(\"categoria_interes\", bigquery.enums.SqlTypeNames.STRING),\n",
    "                bigquery.SchemaField(\"subcategoria_interes\", bigquery.enums.SqlTypeNames.STRING),\n",
    "                bigquery.SchemaField(\"consumo_od\", bigquery.enums.SqlTypeNames.BOOLEAN),\n",
    "                ],\n",
    "        write_disposition=\"WRITE_TRUNCATE\",\n",
    "        )\n",
    "    \n",
    "# Make an API request.\n",
    "job = client.load_table_from_dataframe(df, bq_table, job_config=job_config) \n",
    "\n",
    "print(job.result())  # Wait for the job to complete.   "
   ]
  }
 ],
 "metadata": {
  "kernelspec": {
   "display_name": "Python 3.8.8 ('base')",
   "language": "python",
   "name": "python3"
  },
  "language_info": {
   "codemirror_mode": {
    "name": "ipython",
    "version": 3
   },
   "file_extension": ".py",
   "mimetype": "text/x-python",
   "name": "python",
   "nbconvert_exporter": "python",
   "pygments_lexer": "ipython3",
   "version": "3.8.8"
  },
  "orig_nbformat": 4,
  "vscode": {
   "interpreter": {
    "hash": "2c6fbda2488a67f21337359f03bca5305f1d74b510f165862164d92d24f216f3"
   }
  }
 },
 "nbformat": 4,
 "nbformat_minor": 2
}
