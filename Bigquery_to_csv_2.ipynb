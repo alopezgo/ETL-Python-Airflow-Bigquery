{
 "cells": [
  {
   "cell_type": "code",
   "execution_count": 1,
   "metadata": {},
   "outputs": [],
   "source": [
    "#Importar librería gbq\n",
    "import pandas as pd\n",
    "import itertools\n",
    "from google.cloud import bigquery\n",
    "\n"
   ]
  },
  {
   "cell_type": "code",
   "execution_count": 2,
   "metadata": {},
   "outputs": [],
   "source": [
    "# Autenticación\n",
    "client = bigquery.Client()\n",
    "\n",
    "# crear archivo\n",
    "archivo = '../../../Correos shows Mailing/Catalogo_mailing_shows.xlsx'\n",
    "excel_writer = pd.ExcelWriter(archivo, engine=\"xlsxwriter\")\n",
    "\n",
    "lista_shows = [\n",
    "    'rutasecreta',\n",
    "    'historiafreak',\n",
    "    'cocavi',\n",
    "    'eneup',\n",
    "    'oficio']\n",
    "\n",
    "nombre_rdf = {\n",
    "    \"rutasecreta\": \"La Ruta Secreta\", \n",
    "    \"historiafreak\" : \"Historia Freak\",\n",
    "    \"cocavi\": \"Cocavi\", \n",
    "    \"eneup\" : \"Esto No Es un Podcast\", \n",
    "    \"oficio\": \"Oficio de vivir\"}\n"
   ]
  },
  {
   "cell_type": "code",
   "execution_count": 3,
   "metadata": {},
   "outputs": [],
   "source": [
    "for show in range(len(lista_shows)):\n",
    "\n",
    "    query_shows = \"\"\"\n",
    "\n",
    "    with consumo as (\n",
    "    SELECT distinct dicc_shows._id, dicc_shows.title, usuarios_unicos.email\n",
    "    FROM `conexion-datos-rdf.usuarios.usuarios_emisor` AS usuarios_unicos\n",
    "    LEFT JOIN`conexion-datos-rdf.consumo_usuarios.consumo_mensual_content` AS consumo_usuarios\n",
    "    ON usuarios_unicos.platform_id = consumo_usuarios.user_id\n",
    "    LEFT JOIN `conexion-datos-rdf.dicc_medios.dicc_medios` AS dicc_medios\n",
    "    ON consumo_usuarios.content_id = dicc_medios.media_id\n",
    "    LEFT JOIN `conexion-datos-rdf.diccionarios.dicc_shows` AS dicc_shows\n",
    "    ON dicc_medios.show_id = dicc_shows._id), \n",
    "\n",
    "    rutasecreta as (\n",
    "    Select * from consumo\n",
    "    where consumo._id in ('5cc0d1173477b8633b077e41')),\n",
    "\n",
    "    historiafreak as (\n",
    "    Select consumo.* from consumo\n",
    "    left outer join rutasecreta\n",
    "    on consumo.email = rutasecreta.email\n",
    "    where rutasecreta.email is null\n",
    "    and consumo._id in ('5f2ac786f815b70768cc3228')),\n",
    "\n",
    "    cocavi as (\n",
    "    Select consumo.* from consumo\n",
    "    left outer join rutasecreta\n",
    "    on consumo.email = rutasecreta.email\n",
    "    left outer join historiafreak\n",
    "    on consumo.email = historiafreak.email\n",
    "    where rutasecreta.email is null and historiafreak.email is null\n",
    "    and consumo._id in ('62ceef3287bd310848586f38')\n",
    "    ),\n",
    "\n",
    "    eneup as (\n",
    "    Select consumo.* from consumo\n",
    "    left outer join rutasecreta\n",
    "    on consumo.email = rutasecreta.email\n",
    "    left outer join historiafreak\n",
    "    on consumo.email = historiafreak.email\n",
    "    left outer join cocavi\n",
    "    on consumo.email = cocavi.email\n",
    "    where rutasecreta.email is null and historiafreak.email is null\n",
    "    and cocavi.email is null\n",
    "    and consumo._id in ('5e3825c34948a26cf6148327')),\n",
    "\n",
    "    oficio as (\n",
    "    Select consumo.* from consumo\n",
    "    left outer join rutasecreta\n",
    "    on consumo.email = rutasecreta.email\n",
    "    left outer join historiafreak\n",
    "    on consumo.email = historiafreak.email\n",
    "    left outer join cocavi\n",
    "    on consumo.email = cocavi.email\n",
    "    left outer join eneup\n",
    "    on consumo.email = eneup.email\n",
    "    where rutasecreta.email is null and historiafreak.email is null\n",
    "    and cocavi.email is null and eneup.email is null\n",
    "    and consumo._id in ('61d6f193fbdf5308349f10d5'))\n",
    "\n",
    "    select email from {0}\n",
    "\n",
    "    \"\"\".format(lista_shows[show])\n",
    "\n",
    "    #print(query_shows)\n",
    "\n",
    "    df_shows = client.query(query_shows).result().to_dataframe( create_bqstorage_client=False)  \n",
    "    df_shows[\"show\"] = nombre_rdf[lista_shows[show]]\n",
    "    df_shows.to_excel(excel_writer, sheet_name=lista_shows[show], index=False)"
   ]
  },
  {
   "cell_type": "code",
   "execution_count": 4,
   "metadata": {},
   "outputs": [],
   "source": [
    "excel_writer.save()"
   ]
  }
 ],
 "metadata": {
  "kernelspec": {
   "display_name": "Python 3.8.8 ('base')",
   "language": "python",
   "name": "python3"
  },
  "language_info": {
   "codemirror_mode": {
    "name": "ipython",
    "version": 3
   },
   "file_extension": ".py",
   "mimetype": "text/x-python",
   "name": "python",
   "nbconvert_exporter": "python",
   "pygments_lexer": "ipython3",
   "version": "3.8.8"
  },
  "orig_nbformat": 4,
  "vscode": {
   "interpreter": {
    "hash": "2c6fbda2488a67f21337359f03bca5305f1d74b510f165862164d92d24f216f3"
   }
  }
 },
 "nbformat": 4,
 "nbformat_minor": 2
}
