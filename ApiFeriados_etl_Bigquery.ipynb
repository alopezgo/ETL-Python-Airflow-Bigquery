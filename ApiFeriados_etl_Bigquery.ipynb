{
 "cells": [
  {
   "cell_type": "markdown",
   "metadata": {},
   "source": [
    "## Consumo API feriados\n",
    "Conexión sencilla a API de Feriados del Gobierno, transformación de datos mediante librería pandas y carga en bigquery"
   ]
  },
  {
   "cell_type": "code",
   "execution_count": 11,
   "metadata": {},
   "outputs": [],
   "source": [
    "# Importación librerías\n",
    "import requests\n",
    "import pandas as pd\n",
    "from datetime import datetime\n",
    "import pytz\n",
    "from google.cloud import bigquery"
   ]
  },
  {
   "cell_type": "code",
   "execution_count": 2,
   "metadata": {},
   "outputs": [],
   "source": [
    "# Variables globales para conversión de \n",
    "# Fechas a zona horaria Chile\n",
    "fmt= '%Y-%m-%d'\n",
    "cl = pytz.timezone(\"America/Santiago\")\n",
    "now_dt = datetime.now(cl)"
   ]
  },
  {
   "cell_type": "code",
   "execution_count": 3,
   "metadata": {},
   "outputs": [],
   "source": [
    "# response.json()"
   ]
  },
  {
   "cell_type": "code",
   "execution_count": 4,
   "metadata": {},
   "outputs": [],
   "source": [
    "\n",
    "def response_to_dataframe(response):\n",
    "    \"\"\"\n",
    "    Función que da forma a la data recibida \n",
    "        Parámetro: response API\n",
    "        Returns: dataframe\n",
    "    \"\"\"\n",
    "\n",
    "    df_feriados = pd.DataFrame(response.json())\n",
    "\n",
    "    if df_feriados.empty:\n",
    "        return df_feriados\n",
    "    \n",
    "    df_feriados[\"irrenunciable\"] = df_feriados[\"irrenunciable\"].astype(int).astype(bool)\n",
    "    df_feriados[\"descripcion\"] = df_feriados[\"nombre\"]\n",
    "    df_feriados[\"feriado\"] = True\n",
    "    return df_feriados[[\"fecha\", \"feriado\", \"irrenunciable\", \"descripcion\"]]"
   ]
  },
  {
   "cell_type": "code",
   "execution_count": 5,
   "metadata": {},
   "outputs": [],
   "source": [
    "# df_feriados=response_to_dataframe(response)\n",
    "# df_feriados\n",
    "# df_feriados.info()"
   ]
  },
  {
   "cell_type": "code",
   "execution_count": 6,
   "metadata": {},
   "outputs": [],
   "source": [
    "def gen_rango_fechas():\n",
    "    \"\"\"\n",
    "    Función retorna dataframe de fechas, cuyas filas van desde el 01 de agosto de 2019 \n",
    "    al último día del año de la consulta\n",
    "    \"\"\"\n",
    "    \n",
    "    now_d = now_dt.date().replace(month=12, day=31)\n",
    "    ultimo_diaannio = now_d.strftime(fmt)\n",
    "\n",
    "    rango_fechas = pd.date_range('2019-08-01',  ultimo_diaannio, freq= 'D').astype(str)\n",
    "    df_rango_fechas = pd.DataFrame(rango_fechas)\n",
    "    df_rango_fechas.rename(columns={0 : 'fecha'}, inplace=True)\n",
    "    return df_rango_fechas"
   ]
  },
  {
   "cell_type": "code",
   "execution_count": 7,
   "metadata": {},
   "outputs": [],
   "source": [
    "def gen_df_final(df_feriados, df_rango_fechas):\n",
    "    \"\"\"\n",
    "    Función une ambos dataframes \n",
    "    \"\"\"\n",
    "    df_final= df_feriados.join(df_rango_fechas.set_index('fecha'), how= 'right', on= 'fecha')\n",
    "    df_final.reset_index(inplace=True)    \n",
    "    df_final[\"feriado\"].fillna(False, inplace=True)\n",
    "\n",
    "    df_final= df_final[['fecha', 'feriado', 'irrenunciable', 'descripcion']]\n",
    "\n",
    "    return df_final\n",
    "\n",
    "#df_final.iloc[-10:-1]"
   ]
  },
  {
   "cell_type": "code",
   "execution_count": 8,
   "metadata": {},
   "outputs": [],
   "source": [
    "def upload_data_bq(df_final):\n",
    "    \"\"\"\n",
    "    Función define esquema de la tabla en BQ y sobreescribe datos\n",
    "    \"\"\"\n",
    "    _google_key = \"../../Credenciales/servacc_bigquery.json\"\n",
    "\n",
    "    bq_table = \"conexion-datos-rdf.diccionarios.dicc_feriados\"\n",
    "    \n",
    "    client = bigquery.Client.from_service_account_json(_google_key)\n",
    "\n",
    "    job_config = bigquery.LoadJobConfig(\n",
    "        schema=[\n",
    "            bigquery.SchemaField(\n",
    "                \"fecha\", bigquery.enums.SqlTypeNames.STRING),\n",
    "            bigquery.SchemaField(\n",
    "                \"feriado\", bigquery.enums.SqlTypeNames.BOOLEAN),\n",
    "            bigquery.SchemaField(\n",
    "                \"irrenunciable\", bigquery.enums.SqlTypeNames.BOOLEAN),\n",
    "            bigquery.SchemaField(\n",
    "                \"descripcion\", bigquery.enums.SqlTypeNames.STRING),\n",
    "        ],\n",
    "        write_disposition=\"WRITE_TRUNCATE\",\n",
    "        clustering_fields=[\"fecha\", \"feriado\"],\n",
    "        \n",
    "    )\n",
    "\n",
    "    job = client.load_table_from_dataframe(df_final, bq_table, job_config=job_config)\n",
    "\n",
    "    print(job.result())  # Wait for the job to complete."
   ]
  },
  {
   "cell_type": "code",
   "execution_count": 9,
   "metadata": {},
   "outputs": [],
   "source": [
    "def etl_dicc_feriados():\n",
    "    \"\"\"\n",
    "    Función extrae, transforma y carga la data\n",
    "    \"\"\"\n",
    "    user_agent = {'User-agent': 'Mozilla/5.0'}\n",
    "    endpoint= \"https://apis.digital.gob.cl/fl/feriados\"\n",
    "    response = requests.get(endpoint, headers= user_agent)\n",
    "    \n",
    "    df_feriados = response_to_dataframe(response)\n",
    "    df_rango_fechas = gen_rango_fechas()\n",
    "    df_final = gen_df_final(df_feriados, df_rango_fechas)\n",
    "    upload_data_bq(df_final)\n",
    "    \n",
    "    return df_final"
   ]
  },
  {
   "cell_type": "code",
   "execution_count": null,
   "metadata": {},
   "outputs": [],
   "source": [
    "#Llamado a la función etl\n",
    "df_final= etl_dicc_feriados()\n",
    "df_final"
   ]
  }
 ],
 "metadata": {
  "interpreter": {
   "hash": "2c6fbda2488a67f21337359f03bca5305f1d74b510f165862164d92d24f216f3"
  },
  "kernelspec": {
   "display_name": "Python 3.8.8 ('base')",
   "language": "python",
   "name": "python3"
  },
  "language_info": {
   "codemirror_mode": {
    "name": "ipython",
    "version": 3
   },
   "file_extension": ".py",
   "mimetype": "text/x-python",
   "name": "python",
   "nbconvert_exporter": "python",
   "pygments_lexer": "ipython3",
   "version": "3.8.8"
  },
  "orig_nbformat": 4
 },
 "nbformat": 4,
 "nbformat_minor": 2
}
