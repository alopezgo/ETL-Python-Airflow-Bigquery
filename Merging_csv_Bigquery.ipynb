{
 "cells": [
  {
   "cell_type": "code",
   "execution_count": 1,
   "metadata": {},
   "outputs": [],
   "source": [
    "import pandas as pd\n",
    "from datetime import datetime\n",
    "from google.cloud import bigquery"
   ]
  },
  {
   "cell_type": "markdown",
   "metadata": {},
   "source": [
    "### Ind_registrados"
   ]
  },
  {
   "cell_type": "code",
   "execution_count": 2,
   "metadata": {},
   "outputs": [],
   "source": [
    "client = bigquery.Client()\n",
    "query = \"\"\"\n",
    "With\n",
    "\n",
    "registrado as (\n",
    "  SELECT \n",
    "  platform_id,\n",
    "  federation_id,\n",
    "  email,\n",
    "  cast(date(date_created)as string) as date_created,\n",
    "  case when date_created < '2022-03-28'\n",
    "  then cast(date_diff('2022-09-30', '2022-03-28', day) as string)\n",
    "  else cast(date_diff('2022-09-30', date(date_created), day) as string)\n",
    "  end as dias_registrado,\n",
    "  case\n",
    "  when\n",
    "  date_diff('2022-09-30', date(date_created), day) < 30\n",
    "  then 'menos de 30 días creado'\n",
    "  else  'más de 30 días creado'\n",
    "  end as condicion\n",
    "  from `webhooks.usuarios_unicos` as users\n",
    "  where users.date_created < '2022-09-30')\n",
    "\n",
    "  Select * from registrado\n",
    "\"\"\"\n",
    "\n",
    "ind_registrados = client.query(query).result().to_dataframe(create_bqstorage_client=False)  "
   ]
  },
  {
   "cell_type": "markdown",
   "metadata": {},
   "source": [
    "### Ind_total"
   ]
  },
  {
   "cell_type": "code",
   "execution_count": 3,
   "metadata": {},
   "outputs": [
    {
     "data": {
      "text/plain": [
       "Index(['platform_id', 'sum_total', 'q_total', 'prom_total', 'freq_total'], dtype='object')"
      ]
     },
     "execution_count": 3,
     "metadata": {},
     "output_type": "execute_result"
    }
   ],
   "source": [
    "ind_total = pd.read_csv(\"C:/Users/alopez/Desktop/indicadores/20220930/Ind_total.csv\")\n",
    "ind_total.columns"
   ]
  },
  {
   "cell_type": "code",
   "execution_count": 4,
   "metadata": {},
   "outputs": [
    {
     "data": {
      "text/plain": [
       "Index(['platform_id', 'federation_id', 'email', 'date_created',\n",
       "       'dias_registrado', 'condicion', 'sum_total', 'q_total', 'prom_total',\n",
       "       'freq_total'],\n",
       "      dtype='object')"
      ]
     },
     "execution_count": 4,
     "metadata": {},
     "output_type": "execute_result"
    }
   ],
   "source": [
    "output1 = pd.merge(ind_registrados, ind_total, on= 'platform_id', how= 'left')\n",
    "output1.columns"
   ]
  },
  {
   "cell_type": "markdown",
   "metadata": {},
   "source": [
    "### Ind_30h"
   ]
  },
  {
   "cell_type": "code",
   "execution_count": 5,
   "metadata": {},
   "outputs": [
    {
     "data": {
      "text/plain": [
       "Index(['platform_id', 'sum_30h', 'q_30h', 'prom_30h', 'freq_30h'], dtype='object')"
      ]
     },
     "execution_count": 5,
     "metadata": {},
     "output_type": "execute_result"
    }
   ],
   "source": [
    "ind_30h = pd.read_csv(\"C:/Users/alopez/Desktop/indicadores/20220930/Ind_30h.csv\")\n",
    "ind_30h.columns"
   ]
  },
  {
   "cell_type": "code",
   "execution_count": 6,
   "metadata": {},
   "outputs": [
    {
     "data": {
      "text/plain": [
       "Index(['platform_id', 'federation_id', 'email', 'date_created',\n",
       "       'dias_registrado', 'condicion', 'sum_total', 'q_total', 'prom_total',\n",
       "       'freq_total', 'sum_30h', 'q_30h', 'prom_30h', 'freq_30h'],\n",
       "      dtype='object')"
      ]
     },
     "execution_count": 6,
     "metadata": {},
     "output_type": "execute_result"
    }
   ],
   "source": [
    "output2 = pd.merge(output1, ind_30h, on= 'platform_id', how= 'left')\n",
    "output2.columns"
   ]
  },
  {
   "cell_type": "markdown",
   "metadata": {},
   "source": [
    "### Ind_live_30h"
   ]
  },
  {
   "cell_type": "code",
   "execution_count": 7,
   "metadata": {},
   "outputs": [
    {
     "data": {
      "text/plain": [
       "Index(['platform_id', 'sum_live', 'q_live', 'prom_live', 'freq_live'], dtype='object')"
      ]
     },
     "execution_count": 7,
     "metadata": {},
     "output_type": "execute_result"
    }
   ],
   "source": [
    "ind_live = pd.read_csv(\"C:/Users/alopez/Desktop/indicadores/20220930/Ind_live_30h.csv\")\n",
    "del ind_live['content_type']\n",
    "ind_live.columns"
   ]
  },
  {
   "cell_type": "code",
   "execution_count": 8,
   "metadata": {},
   "outputs": [
    {
     "data": {
      "text/plain": [
       "Index(['platform_id', 'federation_id', 'email', 'date_created',\n",
       "       'dias_registrado', 'condicion', 'sum_total', 'q_total', 'prom_total',\n",
       "       'freq_total', 'sum_30h', 'q_30h', 'prom_30h', 'freq_30h', 'sum_live',\n",
       "       'q_live', 'prom_live', 'freq_live'],\n",
       "      dtype='object')"
      ]
     },
     "execution_count": 8,
     "metadata": {},
     "output_type": "execute_result"
    }
   ],
   "source": [
    "output3 = pd.merge(output2, ind_live, on= 'platform_id', how= 'left')\n",
    "output3.columns"
   ]
  },
  {
   "cell_type": "markdown",
   "metadata": {},
   "source": [
    "### Ind_od_30h"
   ]
  },
  {
   "cell_type": "code",
   "execution_count": 9,
   "metadata": {},
   "outputs": [
    {
     "data": {
      "text/plain": [
       "Index(['platform_id', 'sum_od', 'q_od', 'prom_od', 'freq_od'], dtype='object')"
      ]
     },
     "execution_count": 9,
     "metadata": {},
     "output_type": "execute_result"
    }
   ],
   "source": [
    "ind_od = pd.read_csv(\"C:/Users/alopez/Desktop/indicadores/20220930/Ind_od_30h.csv\")\n",
    "ind_od.columns"
   ]
  },
  {
   "cell_type": "code",
   "execution_count": 10,
   "metadata": {},
   "outputs": [
    {
     "data": {
      "text/plain": [
       "Index(['platform_id', 'federation_id', 'email', 'date_created',\n",
       "       'dias_registrado', 'condicion', 'sum_total', 'q_total', 'prom_total',\n",
       "       'freq_total', 'sum_30h', 'q_30h', 'prom_30h', 'freq_30h', 'sum_live',\n",
       "       'q_live', 'prom_live', 'freq_live', 'sum_od', 'q_od', 'prom_od',\n",
       "       'freq_od'],\n",
       "      dtype='object')"
      ]
     },
     "execution_count": 10,
     "metadata": {},
     "output_type": "execute_result"
    }
   ],
   "source": [
    "output4 = pd.merge(output3, ind_od, on= 'platform_id', how= 'left')\n",
    "output4.columns"
   ]
  },
  {
   "cell_type": "markdown",
   "metadata": {},
   "source": [
    "### Ind_device_30h"
   ]
  },
  {
   "cell_type": "code",
   "execution_count": 11,
   "metadata": {},
   "outputs": [
    {
     "name": "stderr",
     "output_type": "stream",
     "text": [
      "c:\\Users\\alopez\\Anaconda3\\lib\\site-packages\\pandas\\core\\frame.py:4441: SettingWithCopyWarning: \n",
      "A value is trying to be set on a copy of a slice from a DataFrame\n",
      "\n",
      "See the caveats in the documentation: https://pandas.pydata.org/pandas-docs/stable/user_guide/indexing.html#returning-a-view-versus-a-copy\n",
      "  return super().rename(\n"
     ]
    }
   ],
   "source": [
    "ind_device = pd.read_csv(\"C:/Users/alopez/Desktop/indicadores/20220930/Ind_device_30h.csv\")\n",
    "ind_device_desk = ind_device[ind_device['device_type']=='Desktop']\n",
    "ind_device_desk.rename(columns={'sum_device':'sum_desk', 'q_device': 'q_desk', \n",
    "'prom_device': 'prom_desk', 'freq_device': 'freq_desk'},inplace = True)\n",
    "del ind_device_desk['device_type']\n",
    "ind_device_phone = ind_device[ind_device['device_type']=='Phone']\n",
    "ind_device_phone.rename(columns={'sum_device':'sum_phone', 'q_device': 'q_phone', \n",
    "'prom_device': 'prom_phone', 'freq_device': 'freq_phone'},inplace = True)\n",
    "del ind_device_phone['device_type']"
   ]
  },
  {
   "cell_type": "code",
   "execution_count": 12,
   "metadata": {},
   "outputs": [
    {
     "data": {
      "text/plain": [
       "Index(['platform_id', 'federation_id', 'email', 'date_created',\n",
       "       'dias_registrado', 'condicion', 'sum_total', 'q_total', 'prom_total',\n",
       "       'freq_total', 'sum_30h', 'q_30h', 'prom_30h', 'freq_30h', 'sum_live',\n",
       "       'q_live', 'prom_live', 'freq_live', 'sum_od', 'q_od', 'prom_od',\n",
       "       'freq_od', 'sum_desk', 'q_desk', 'prom_desk', 'freq_desk'],\n",
       "      dtype='object')"
      ]
     },
     "execution_count": 12,
     "metadata": {},
     "output_type": "execute_result"
    }
   ],
   "source": [
    "output5 = pd.merge(output4, ind_device_desk, on= 'platform_id', how= 'left')\n",
    "output5.columns"
   ]
  },
  {
   "cell_type": "code",
   "execution_count": 13,
   "metadata": {},
   "outputs": [
    {
     "data": {
      "text/plain": [
       "Index(['platform_id', 'federation_id', 'email', 'date_created',\n",
       "       'dias_registrado', 'condicion', 'sum_total', 'q_total', 'prom_total',\n",
       "       'freq_total', 'sum_30h', 'q_30h', 'prom_30h', 'freq_30h', 'sum_live',\n",
       "       'q_live', 'prom_live', 'freq_live', 'sum_od', 'q_od', 'prom_od',\n",
       "       'freq_od', 'sum_desk', 'q_desk', 'prom_desk', 'freq_desk', 'sum_phone',\n",
       "       'q_phone', 'prom_phone', 'freq_phone'],\n",
       "      dtype='object')"
      ]
     },
     "execution_count": 13,
     "metadata": {},
     "output_type": "execute_result"
    }
   ],
   "source": [
    "output5 = pd.merge(output5, ind_device_phone, on= 'platform_id', how= 'left')\n",
    "output5.columns"
   ]
  },
  {
   "cell_type": "markdown",
   "metadata": {},
   "source": [
    "### Ind_bloque_30h"
   ]
  },
  {
   "cell_type": "code",
   "execution_count": 14,
   "metadata": {},
   "outputs": [
    {
     "data": {
      "text/plain": [
       "Index(['platform_id', 'bloque', 'sum_bloque', 'q_bloque', 'prom_min',\n",
       "       'freq_bloque'],\n",
       "      dtype='object')"
      ]
     },
     "execution_count": 14,
     "metadata": {},
     "output_type": "execute_result"
    }
   ],
   "source": [
    "ind_bloque = pd.read_csv(\"C:/Users/alopez/Desktop/indicadores/20220930/Ind_bloque_30h.csv\")\n",
    "ind_bloque.columns"
   ]
  },
  {
   "cell_type": "code",
   "execution_count": 15,
   "metadata": {},
   "outputs": [],
   "source": [
    "ind_bloque_6a7 = ind_bloque[ind_bloque['bloque'] == '6 a 7']\n",
    "ind_bloque_6a7.rename(columns={'sum_bloque':'sum_6a7', 'q_bloque': 'q_6a7', \n",
    "'prom_min': 'prom_6a7', 'freq_bloque': 'freq_6a7'},inplace = True)\n",
    "del ind_bloque_6a7['bloque']\n",
    "\n",
    "ind_bloque_7a9 = ind_bloque[ind_bloque['bloque'] == '7 a 9']\n",
    "ind_bloque_7a9.rename(columns={'sum_bloque':'sum_7a9', 'q_bloque': 'q_7a9', \n",
    "'prom_min': 'prom_7a9', 'freq_bloque': 'freq_7a9'},inplace = True)\n",
    "del ind_bloque_7a9['bloque']\n",
    "\n",
    "ind_bloque_9a13 = ind_bloque[ind_bloque['bloque'] == '9 a 13']\n",
    "ind_bloque_9a13.rename(columns={'sum_bloque':'sum_9a13', 'q_bloque': 'q_9a13', \n",
    "'prom_min': 'prom_9a13', 'freq_bloque': 'freq_9a13'},inplace = True)\n",
    "del ind_bloque_9a13['bloque']\n",
    "\n",
    "ind_bloque_13a16 = ind_bloque[ind_bloque['bloque'] == '13 a 16']\n",
    "ind_bloque_13a16.rename(columns={'sum_bloque':'sum_13a16', 'q_bloque': 'q_13a16', \n",
    "'prom_min': 'prom_13a16', 'freq_bloque': 'freq_13a16'},inplace = True)\n",
    "del ind_bloque_13a16['bloque']\n",
    "\n",
    "ind_bloque_16a18 = ind_bloque[ind_bloque['bloque'] == '16 a 18']\n",
    "ind_bloque_16a18.rename(columns={'sum_bloque':'sum_16a18', 'q_bloque': 'q_16a18', \n",
    "'prom_min': 'prom_16a18', 'freq_bloque': 'freq_16a18'},inplace = True)\n",
    "del ind_bloque_16a18['bloque']\n",
    "\n",
    "ind_bloque_18a21 = ind_bloque[ind_bloque['bloque'] == '18 a 21']\n",
    "ind_bloque_18a21.rename(columns={'sum_bloque':'sum_18a21', 'q_bloque': 'q_18a21', \n",
    "'prom_min': 'prom_18a21', 'freq_bloque': 'freq_18a21'},inplace = True)\n",
    "del ind_bloque_18a21['bloque']\n",
    "\n",
    "ind_bloque_21a06 = ind_bloque[ind_bloque['bloque'] == '21 a 06']\n",
    "ind_bloque_21a06.rename(columns={'sum_bloque':'sum_21a06', 'q_bloque': 'q_21a06', \n",
    "'prom_min': 'prom_21a06', 'freq_bloque': 'freq_21a06'},inplace = True)\n",
    "del ind_bloque_21a06['bloque']\n",
    "\n"
   ]
  },
  {
   "cell_type": "code",
   "execution_count": 16,
   "metadata": {},
   "outputs": [
    {
     "data": {
      "text/plain": [
       "Index(['platform_id', 'federation_id', 'email', 'date_created',\n",
       "       'dias_registrado', 'condicion', 'sum_total', 'q_total', 'prom_total',\n",
       "       'freq_total', 'sum_30h', 'q_30h', 'prom_30h', 'freq_30h', 'sum_live',\n",
       "       'q_live', 'prom_live', 'freq_live', 'sum_od', 'q_od', 'prom_od',\n",
       "       'freq_od', 'sum_desk', 'q_desk', 'prom_desk', 'freq_desk', 'sum_phone',\n",
       "       'q_phone', 'prom_phone', 'freq_phone', 'sum_6a7', 'q_6a7', 'prom_6a7',\n",
       "       'freq_6a7'],\n",
       "      dtype='object')"
      ]
     },
     "execution_count": 16,
     "metadata": {},
     "output_type": "execute_result"
    }
   ],
   "source": [
    "output6 = pd.merge(output5, ind_bloque_6a7, on= 'platform_id', how= 'left')\n",
    "output6.columns"
   ]
  },
  {
   "cell_type": "code",
   "execution_count": 17,
   "metadata": {},
   "outputs": [
    {
     "data": {
      "text/plain": [
       "Index(['platform_id', 'federation_id', 'email', 'date_created',\n",
       "       'dias_registrado', 'condicion', 'sum_total', 'q_total', 'prom_total',\n",
       "       'freq_total', 'sum_30h', 'q_30h', 'prom_30h', 'freq_30h', 'sum_live',\n",
       "       'q_live', 'prom_live', 'freq_live', 'sum_od', 'q_od', 'prom_od',\n",
       "       'freq_od', 'sum_desk', 'q_desk', 'prom_desk', 'freq_desk', 'sum_phone',\n",
       "       'q_phone', 'prom_phone', 'freq_phone', 'sum_6a7', 'q_6a7', 'prom_6a7',\n",
       "       'freq_6a7', 'sum_7a9', 'q_7a9', 'prom_7a9', 'freq_7a9'],\n",
       "      dtype='object')"
      ]
     },
     "execution_count": 17,
     "metadata": {},
     "output_type": "execute_result"
    }
   ],
   "source": [
    "output7 = pd.merge(output6, ind_bloque_7a9, on= 'platform_id', how= 'left')\n",
    "output7.columns"
   ]
  },
  {
   "cell_type": "code",
   "execution_count": 18,
   "metadata": {},
   "outputs": [
    {
     "data": {
      "text/plain": [
       "Index(['platform_id', 'federation_id', 'email', 'date_created',\n",
       "       'dias_registrado', 'condicion', 'sum_total', 'q_total', 'prom_total',\n",
       "       'freq_total', 'sum_30h', 'q_30h', 'prom_30h', 'freq_30h', 'sum_live',\n",
       "       'q_live', 'prom_live', 'freq_live', 'sum_od', 'q_od', 'prom_od',\n",
       "       'freq_od', 'sum_desk', 'q_desk', 'prom_desk', 'freq_desk', 'sum_phone',\n",
       "       'q_phone', 'prom_phone', 'freq_phone', 'sum_6a7', 'q_6a7', 'prom_6a7',\n",
       "       'freq_6a7', 'sum_7a9', 'q_7a9', 'prom_7a9', 'freq_7a9', 'sum_9a13',\n",
       "       'q_9a13', 'prom_9a13', 'freq_9a13'],\n",
       "      dtype='object')"
      ]
     },
     "execution_count": 18,
     "metadata": {},
     "output_type": "execute_result"
    }
   ],
   "source": [
    "output8 = pd.merge(output7, ind_bloque_9a13, on= 'platform_id', how= 'left')\n",
    "output8.columns"
   ]
  },
  {
   "cell_type": "code",
   "execution_count": 19,
   "metadata": {},
   "outputs": [
    {
     "data": {
      "text/plain": [
       "Index(['platform_id', 'federation_id', 'email', 'date_created',\n",
       "       'dias_registrado', 'condicion', 'sum_total', 'q_total', 'prom_total',\n",
       "       'freq_total', 'sum_30h', 'q_30h', 'prom_30h', 'freq_30h', 'sum_live',\n",
       "       'q_live', 'prom_live', 'freq_live', 'sum_od', 'q_od', 'prom_od',\n",
       "       'freq_od', 'sum_desk', 'q_desk', 'prom_desk', 'freq_desk', 'sum_phone',\n",
       "       'q_phone', 'prom_phone', 'freq_phone', 'sum_6a7', 'q_6a7', 'prom_6a7',\n",
       "       'freq_6a7', 'sum_7a9', 'q_7a9', 'prom_7a9', 'freq_7a9', 'sum_9a13',\n",
       "       'q_9a13', 'prom_9a13', 'freq_9a13', 'sum_13a16', 'q_13a16',\n",
       "       'prom_13a16', 'freq_13a16'],\n",
       "      dtype='object')"
      ]
     },
     "execution_count": 19,
     "metadata": {},
     "output_type": "execute_result"
    }
   ],
   "source": [
    "output9 = pd.merge(output8, ind_bloque_13a16, on= 'platform_id', how= 'left')\n",
    "output9.columns"
   ]
  },
  {
   "cell_type": "code",
   "execution_count": 20,
   "metadata": {},
   "outputs": [
    {
     "data": {
      "text/plain": [
       "Index(['platform_id', 'federation_id', 'email', 'date_created',\n",
       "       'dias_registrado', 'condicion', 'sum_total', 'q_total', 'prom_total',\n",
       "       'freq_total', 'sum_30h', 'q_30h', 'prom_30h', 'freq_30h', 'sum_live',\n",
       "       'q_live', 'prom_live', 'freq_live', 'sum_od', 'q_od', 'prom_od',\n",
       "       'freq_od', 'sum_desk', 'q_desk', 'prom_desk', 'freq_desk', 'sum_phone',\n",
       "       'q_phone', 'prom_phone', 'freq_phone', 'sum_6a7', 'q_6a7', 'prom_6a7',\n",
       "       'freq_6a7', 'sum_7a9', 'q_7a9', 'prom_7a9', 'freq_7a9', 'sum_9a13',\n",
       "       'q_9a13', 'prom_9a13', 'freq_9a13', 'sum_13a16', 'q_13a16',\n",
       "       'prom_13a16', 'freq_13a16', 'sum_16a18', 'q_16a18', 'prom_16a18',\n",
       "       'freq_16a18'],\n",
       "      dtype='object')"
      ]
     },
     "execution_count": 20,
     "metadata": {},
     "output_type": "execute_result"
    }
   ],
   "source": [
    "output10 = pd.merge(output9, ind_bloque_16a18, on= 'platform_id', how= 'left')\n",
    "output10.columns"
   ]
  },
  {
   "cell_type": "code",
   "execution_count": 21,
   "metadata": {},
   "outputs": [
    {
     "data": {
      "text/plain": [
       "Index(['platform_id', 'federation_id', 'email', 'date_created',\n",
       "       'dias_registrado', 'condicion', 'sum_total', 'q_total', 'prom_total',\n",
       "       'freq_total', 'sum_30h', 'q_30h', 'prom_30h', 'freq_30h', 'sum_live',\n",
       "       'q_live', 'prom_live', 'freq_live', 'sum_od', 'q_od', 'prom_od',\n",
       "       'freq_od', 'sum_desk', 'q_desk', 'prom_desk', 'freq_desk', 'sum_phone',\n",
       "       'q_phone', 'prom_phone', 'freq_phone', 'sum_6a7', 'q_6a7', 'prom_6a7',\n",
       "       'freq_6a7', 'sum_7a9', 'q_7a9', 'prom_7a9', 'freq_7a9', 'sum_9a13',\n",
       "       'q_9a13', 'prom_9a13', 'freq_9a13', 'sum_13a16', 'q_13a16',\n",
       "       'prom_13a16', 'freq_13a16', 'sum_16a18', 'q_16a18', 'prom_16a18',\n",
       "       'freq_16a18', 'sum_18a21', 'q_18a21', 'prom_18a21', 'freq_18a21'],\n",
       "      dtype='object')"
      ]
     },
     "execution_count": 21,
     "metadata": {},
     "output_type": "execute_result"
    }
   ],
   "source": [
    "output11 = pd.merge(output10, ind_bloque_18a21, on= 'platform_id', how= 'left')\n",
    "output11.columns"
   ]
  },
  {
   "cell_type": "code",
   "execution_count": 22,
   "metadata": {},
   "outputs": [
    {
     "data": {
      "text/plain": [
       "Index(['platform_id', 'federation_id', 'email', 'date_created',\n",
       "       'dias_registrado', 'condicion', 'sum_total', 'q_total', 'prom_total',\n",
       "       'freq_total', 'sum_30h', 'q_30h', 'prom_30h', 'freq_30h', 'sum_live',\n",
       "       'q_live', 'prom_live', 'freq_live', 'sum_od', 'q_od', 'prom_od',\n",
       "       'freq_od', 'sum_desk', 'q_desk', 'prom_desk', 'freq_desk', 'sum_phone',\n",
       "       'q_phone', 'prom_phone', 'freq_phone', 'sum_6a7', 'q_6a7', 'prom_6a7',\n",
       "       'freq_6a7', 'sum_7a9', 'q_7a9', 'prom_7a9', 'freq_7a9', 'sum_9a13',\n",
       "       'q_9a13', 'prom_9a13', 'freq_9a13', 'sum_13a16', 'q_13a16',\n",
       "       'prom_13a16', 'freq_13a16', 'sum_16a18', 'q_16a18', 'prom_16a18',\n",
       "       'freq_16a18', 'sum_18a21', 'q_18a21', 'prom_18a21', 'freq_18a21',\n",
       "       'sum_21a06', 'q_21a06', 'prom_21a06', 'freq_21a06'],\n",
       "      dtype='object')"
      ]
     },
     "execution_count": 22,
     "metadata": {},
     "output_type": "execute_result"
    }
   ],
   "source": [
    "output12 = pd.merge(output11, ind_bloque_21a06, on= 'platform_id', how= 'left')\n",
    "output12.columns"
   ]
  },
  {
   "cell_type": "markdown",
   "metadata": {},
   "source": [
    "### Ind_30ih"
   ]
  },
  {
   "cell_type": "code",
   "execution_count": 23,
   "metadata": {},
   "outputs": [
    {
     "data": {
      "text/plain": [
       "Index(['platform_id', 'sum_30ih', 'q_30ih', 'prom_30ih', 'freq_30ih'], dtype='object')"
      ]
     },
     "execution_count": 23,
     "metadata": {},
     "output_type": "execute_result"
    }
   ],
   "source": [
    "ind_30ih = pd.read_csv(\"C:/Users/alopez/Desktop/indicadores/20220930/Ind_30ih.csv\")\n",
    "ind_30ih.columns"
   ]
  },
  {
   "cell_type": "code",
   "execution_count": 24,
   "metadata": {},
   "outputs": [
    {
     "data": {
      "text/plain": [
       "Index(['platform_id', 'federation_id', 'email', 'date_created',\n",
       "       'dias_registrado', 'condicion', 'sum_total', 'q_total', 'prom_total',\n",
       "       'freq_total', 'sum_30h', 'q_30h', 'prom_30h', 'freq_30h', 'sum_live',\n",
       "       'q_live', 'prom_live', 'freq_live', 'sum_od', 'q_od', 'prom_od',\n",
       "       'freq_od', 'sum_desk', 'q_desk', 'prom_desk', 'freq_desk', 'sum_phone',\n",
       "       'q_phone', 'prom_phone', 'freq_phone', 'sum_6a7', 'q_6a7', 'prom_6a7',\n",
       "       'freq_6a7', 'sum_7a9', 'q_7a9', 'prom_7a9', 'freq_7a9', 'sum_9a13',\n",
       "       'q_9a13', 'prom_9a13', 'freq_9a13', 'sum_13a16', 'q_13a16',\n",
       "       'prom_13a16', 'freq_13a16', 'sum_16a18', 'q_16a18', 'prom_16a18',\n",
       "       'freq_16a18', 'sum_18a21', 'q_18a21', 'prom_18a21', 'freq_18a21',\n",
       "       'sum_21a06', 'q_21a06', 'prom_21a06', 'freq_21a06', 'sum_30ih',\n",
       "       'q_30ih', 'prom_30ih', 'freq_30ih'],\n",
       "      dtype='object')"
      ]
     },
     "execution_count": 24,
     "metadata": {},
     "output_type": "execute_result"
    }
   ],
   "source": [
    "output13 = pd.merge(output12, ind_30ih, on= 'platform_id', how= 'left')\n",
    "output13.columns"
   ]
  },
  {
   "cell_type": "code",
   "execution_count": 25,
   "metadata": {},
   "outputs": [
    {
     "data": {
      "text/plain": [
       "Index(['platform_id', 'federation_id', 'email', 'date_created',\n",
       "       'dias_registrado', 'condicion', 'sum_total', 'q_total', 'prom_total',\n",
       "       'freq_total', 'sum_30h', 'q_30h', 'prom_30h', 'freq_30h', 'sum_live',\n",
       "       'q_live', 'prom_live', 'freq_live', 'sum_od', 'q_od', 'prom_od',\n",
       "       'freq_od', 'sum_desk', 'q_desk', 'prom_desk', 'freq_desk', 'sum_phone',\n",
       "       'q_phone', 'prom_phone', 'freq_phone', 'sum_6a7', 'q_6a7', 'prom_6a7',\n",
       "       'freq_6a7', 'sum_7a9', 'q_7a9', 'prom_7a9', 'freq_7a9', 'sum_9a13',\n",
       "       'q_9a13', 'prom_9a13', 'freq_9a13', 'sum_13a16', 'q_13a16',\n",
       "       'prom_13a16', 'freq_13a16', 'sum_16a18', 'q_16a18', 'prom_16a18',\n",
       "       'freq_16a18', 'sum_18a21', 'q_18a21', 'prom_18a21', 'freq_18a21',\n",
       "       'sum_21a06', 'q_21a06', 'prom_21a06', 'freq_21a06', 'sum_30ih',\n",
       "       'q_30ih', 'prom_30ih', 'freq_30ih', 'fecha'],\n",
       "      dtype='object')"
      ]
     },
     "execution_count": 25,
     "metadata": {},
     "output_type": "execute_result"
    }
   ],
   "source": [
    "output13[\"fecha\"] =  datetime(2022,9,30).strftime('%Y-%m-%d')\n",
    "output13.columns"
   ]
  },
  {
   "cell_type": "code",
   "execution_count": 26,
   "metadata": {},
   "outputs": [],
   "source": [
    "#output13.to_csv(\"C:/Users/alopez/Desktop/indicadores/Indicadores_v3.csv\", index = None, header=True, encoding='utf-8')"
   ]
  },
  {
   "cell_type": "code",
   "execution_count": 28,
   "metadata": {},
   "outputs": [
    {
     "data": {
      "text/html": [
       "<div>\n",
       "<style scoped>\n",
       "    .dataframe tbody tr th:only-of-type {\n",
       "        vertical-align: middle;\n",
       "    }\n",
       "\n",
       "    .dataframe tbody tr th {\n",
       "        vertical-align: top;\n",
       "    }\n",
       "\n",
       "    .dataframe thead th {\n",
       "        text-align: right;\n",
       "    }\n",
       "</style>\n",
       "<table border=\"1\" class=\"dataframe\">\n",
       "  <thead>\n",
       "    <tr style=\"text-align: right;\">\n",
       "      <th></th>\n",
       "      <th>platform_id</th>\n",
       "      <th>federation_id</th>\n",
       "      <th>email</th>\n",
       "      <th>date_created</th>\n",
       "      <th>dias_registrado</th>\n",
       "      <th>condicion</th>\n",
       "      <th>sum_total</th>\n",
       "      <th>q_total</th>\n",
       "      <th>prom_total</th>\n",
       "      <th>freq_total</th>\n",
       "      <th>...</th>\n",
       "      <th>freq_18a21</th>\n",
       "      <th>sum_21a06</th>\n",
       "      <th>q_21a06</th>\n",
       "      <th>prom_21a06</th>\n",
       "      <th>freq_21a06</th>\n",
       "      <th>sum_30ih</th>\n",
       "      <th>q_30ih</th>\n",
       "      <th>prom_30ih</th>\n",
       "      <th>freq_30ih</th>\n",
       "      <th>fecha</th>\n",
       "    </tr>\n",
       "  </thead>\n",
       "  <tbody>\n",
       "    <tr>\n",
       "      <th>0</th>\n",
       "      <td>62f57d0534b65e0009a00494</td>\n",
       "      <td>61af5331b7cda30009e76bbd</td>\n",
       "      <td>avatarignis@hotmail.com</td>\n",
       "      <td>2022-08-11</td>\n",
       "      <td>50</td>\n",
       "      <td>más de 30 días creado</td>\n",
       "      <td>NaN</td>\n",
       "      <td>NaN</td>\n",
       "      <td>NaN</td>\n",
       "      <td>NaN</td>\n",
       "      <td>...</td>\n",
       "      <td>NaN</td>\n",
       "      <td>NaN</td>\n",
       "      <td>NaN</td>\n",
       "      <td>NaN</td>\n",
       "      <td>NaN</td>\n",
       "      <td>NaN</td>\n",
       "      <td>NaN</td>\n",
       "      <td>NaN</td>\n",
       "      <td>NaN</td>\n",
       "      <td>2022-09-30</td>\n",
       "    </tr>\n",
       "    <tr>\n",
       "      <th>1</th>\n",
       "      <td>62e7f19b1cf27900097fd759</td>\n",
       "      <td>61af5331b7cda30009e76bbd</td>\n",
       "      <td>cmenendezramos@outlook.com</td>\n",
       "      <td>2022-08-01</td>\n",
       "      <td>60</td>\n",
       "      <td>más de 30 días creado</td>\n",
       "      <td>7394.983333</td>\n",
       "      <td>18.0</td>\n",
       "      <td>410.832407</td>\n",
       "      <td>0.300000</td>\n",
       "      <td>...</td>\n",
       "      <td>0.033333</td>\n",
       "      <td>NaN</td>\n",
       "      <td>NaN</td>\n",
       "      <td>NaN</td>\n",
       "      <td>NaN</td>\n",
       "      <td>NaN</td>\n",
       "      <td>NaN</td>\n",
       "      <td>NaN</td>\n",
       "      <td>NaN</td>\n",
       "      <td>2022-09-30</td>\n",
       "    </tr>\n",
       "    <tr>\n",
       "      <th>2</th>\n",
       "      <td>62a1258f51cc5e000974fdfc</td>\n",
       "      <td>61af5331b7cda30009e76bbd</td>\n",
       "      <td>donbalon4@gmail.com</td>\n",
       "      <td>2022-06-08</td>\n",
       "      <td>114</td>\n",
       "      <td>más de 30 días creado</td>\n",
       "      <td>NaN</td>\n",
       "      <td>NaN</td>\n",
       "      <td>NaN</td>\n",
       "      <td>NaN</td>\n",
       "      <td>...</td>\n",
       "      <td>NaN</td>\n",
       "      <td>NaN</td>\n",
       "      <td>NaN</td>\n",
       "      <td>NaN</td>\n",
       "      <td>NaN</td>\n",
       "      <td>NaN</td>\n",
       "      <td>NaN</td>\n",
       "      <td>NaN</td>\n",
       "      <td>NaN</td>\n",
       "      <td>2022-09-30</td>\n",
       "    </tr>\n",
       "    <tr>\n",
       "      <th>3</th>\n",
       "      <td>625ea607d39e810009d1c76f</td>\n",
       "      <td>61af5331b7cda30009e76bbd</td>\n",
       "      <td>eduplaza@gmail.com</td>\n",
       "      <td>2022-04-19</td>\n",
       "      <td>164</td>\n",
       "      <td>más de 30 días creado</td>\n",
       "      <td>271.000000</td>\n",
       "      <td>1.0</td>\n",
       "      <td>271.000000</td>\n",
       "      <td>0.006098</td>\n",
       "      <td>...</td>\n",
       "      <td>NaN</td>\n",
       "      <td>NaN</td>\n",
       "      <td>NaN</td>\n",
       "      <td>NaN</td>\n",
       "      <td>NaN</td>\n",
       "      <td>NaN</td>\n",
       "      <td>NaN</td>\n",
       "      <td>NaN</td>\n",
       "      <td>NaN</td>\n",
       "      <td>2022-09-30</td>\n",
       "    </tr>\n",
       "    <tr>\n",
       "      <th>4</th>\n",
       "      <td>62eac2257328c30009b589e2</td>\n",
       "      <td>61af5331b7cda30009e76bbd</td>\n",
       "      <td>jure81@hotmail.com</td>\n",
       "      <td>2022-08-03</td>\n",
       "      <td>58</td>\n",
       "      <td>más de 30 días creado</td>\n",
       "      <td>9786.933333</td>\n",
       "      <td>40.0</td>\n",
       "      <td>244.673333</td>\n",
       "      <td>0.689655</td>\n",
       "      <td>...</td>\n",
       "      <td>0.155172</td>\n",
       "      <td>17.0</td>\n",
       "      <td>1.0</td>\n",
       "      <td>17.0</td>\n",
       "      <td>0.017241</td>\n",
       "      <td>785.9</td>\n",
       "      <td>7.0</td>\n",
       "      <td>112.283333</td>\n",
       "      <td>0.12069</td>\n",
       "      <td>2022-09-30</td>\n",
       "    </tr>\n",
       "    <tr>\n",
       "      <th>...</th>\n",
       "      <td>...</td>\n",
       "      <td>...</td>\n",
       "      <td>...</td>\n",
       "      <td>...</td>\n",
       "      <td>...</td>\n",
       "      <td>...</td>\n",
       "      <td>...</td>\n",
       "      <td>...</td>\n",
       "      <td>...</td>\n",
       "      <td>...</td>\n",
       "      <td>...</td>\n",
       "      <td>...</td>\n",
       "      <td>...</td>\n",
       "      <td>...</td>\n",
       "      <td>...</td>\n",
       "      <td>...</td>\n",
       "      <td>...</td>\n",
       "      <td>...</td>\n",
       "      <td>...</td>\n",
       "      <td>...</td>\n",
       "      <td>...</td>\n",
       "    </tr>\n",
       "    <tr>\n",
       "      <th>49088</th>\n",
       "      <td>62e07855fd3be6000730a0a4</td>\n",
       "      <td>61af5331b7cda30009e76bbd</td>\n",
       "      <td>cubillosrosario@gmail.com</td>\n",
       "      <td>2022-07-26</td>\n",
       "      <td>66</td>\n",
       "      <td>más de 30 días creado</td>\n",
       "      <td>NaN</td>\n",
       "      <td>NaN</td>\n",
       "      <td>NaN</td>\n",
       "      <td>NaN</td>\n",
       "      <td>...</td>\n",
       "      <td>NaN</td>\n",
       "      <td>NaN</td>\n",
       "      <td>NaN</td>\n",
       "      <td>NaN</td>\n",
       "      <td>NaN</td>\n",
       "      <td>NaN</td>\n",
       "      <td>NaN</td>\n",
       "      <td>NaN</td>\n",
       "      <td>NaN</td>\n",
       "      <td>2022-09-30</td>\n",
       "    </tr>\n",
       "    <tr>\n",
       "      <th>49089</th>\n",
       "      <td>62dfe39f916b390009ab32c0</td>\n",
       "      <td>61b2378168babc000837ddbb</td>\n",
       "      <td>cotigallo@gmail.com</td>\n",
       "      <td>2022-07-26</td>\n",
       "      <td>66</td>\n",
       "      <td>más de 30 días creado</td>\n",
       "      <td>NaN</td>\n",
       "      <td>NaN</td>\n",
       "      <td>NaN</td>\n",
       "      <td>NaN</td>\n",
       "      <td>...</td>\n",
       "      <td>NaN</td>\n",
       "      <td>NaN</td>\n",
       "      <td>NaN</td>\n",
       "      <td>NaN</td>\n",
       "      <td>NaN</td>\n",
       "      <td>NaN</td>\n",
       "      <td>NaN</td>\n",
       "      <td>NaN</td>\n",
       "      <td>NaN</td>\n",
       "      <td>2022-09-30</td>\n",
       "    </tr>\n",
       "    <tr>\n",
       "      <th>49090</th>\n",
       "      <td>62e027687040e2000923e82d</td>\n",
       "      <td>61b2378168babc000837ddbb</td>\n",
       "      <td>taniaselaive@gmail.com</td>\n",
       "      <td>2022-07-26</td>\n",
       "      <td>66</td>\n",
       "      <td>más de 30 días creado</td>\n",
       "      <td>90.000000</td>\n",
       "      <td>2.0</td>\n",
       "      <td>45.000000</td>\n",
       "      <td>0.030303</td>\n",
       "      <td>...</td>\n",
       "      <td>NaN</td>\n",
       "      <td>NaN</td>\n",
       "      <td>NaN</td>\n",
       "      <td>NaN</td>\n",
       "      <td>NaN</td>\n",
       "      <td>NaN</td>\n",
       "      <td>NaN</td>\n",
       "      <td>NaN</td>\n",
       "      <td>NaN</td>\n",
       "      <td>2022-09-30</td>\n",
       "    </tr>\n",
       "    <tr>\n",
       "      <th>49091</th>\n",
       "      <td>62e03a0b39ea4e0009883c4f</td>\n",
       "      <td>61b2378168babc000837ddbb</td>\n",
       "      <td>sromero@rdfmedia.cl</td>\n",
       "      <td>2022-07-26</td>\n",
       "      <td>66</td>\n",
       "      <td>más de 30 días creado</td>\n",
       "      <td>4713.000000</td>\n",
       "      <td>46.0</td>\n",
       "      <td>102.456522</td>\n",
       "      <td>0.696970</td>\n",
       "      <td>...</td>\n",
       "      <td>0.212121</td>\n",
       "      <td>NaN</td>\n",
       "      <td>NaN</td>\n",
       "      <td>NaN</td>\n",
       "      <td>NaN</td>\n",
       "      <td>NaN</td>\n",
       "      <td>NaN</td>\n",
       "      <td>NaN</td>\n",
       "      <td>NaN</td>\n",
       "      <td>2022-09-30</td>\n",
       "    </tr>\n",
       "    <tr>\n",
       "      <th>49092</th>\n",
       "      <td>62e04a3094aff100091327aa</td>\n",
       "      <td>61deddb8bd577b0009b1fa52</td>\n",
       "      <td>edith835@gmail.com</td>\n",
       "      <td>2022-07-26</td>\n",
       "      <td>66</td>\n",
       "      <td>más de 30 días creado</td>\n",
       "      <td>2668.000000</td>\n",
       "      <td>20.0</td>\n",
       "      <td>133.400000</td>\n",
       "      <td>0.303030</td>\n",
       "      <td>...</td>\n",
       "      <td>0.121212</td>\n",
       "      <td>NaN</td>\n",
       "      <td>NaN</td>\n",
       "      <td>NaN</td>\n",
       "      <td>NaN</td>\n",
       "      <td>NaN</td>\n",
       "      <td>NaN</td>\n",
       "      <td>NaN</td>\n",
       "      <td>NaN</td>\n",
       "      <td>2022-09-30</td>\n",
       "    </tr>\n",
       "  </tbody>\n",
       "</table>\n",
       "<p>49093 rows × 63 columns</p>\n",
       "</div>"
      ],
      "text/plain": [
       "                    platform_id             federation_id  \\\n",
       "0      62f57d0534b65e0009a00494  61af5331b7cda30009e76bbd   \n",
       "1      62e7f19b1cf27900097fd759  61af5331b7cda30009e76bbd   \n",
       "2      62a1258f51cc5e000974fdfc  61af5331b7cda30009e76bbd   \n",
       "3      625ea607d39e810009d1c76f  61af5331b7cda30009e76bbd   \n",
       "4      62eac2257328c30009b589e2  61af5331b7cda30009e76bbd   \n",
       "...                         ...                       ...   \n",
       "49088  62e07855fd3be6000730a0a4  61af5331b7cda30009e76bbd   \n",
       "49089  62dfe39f916b390009ab32c0  61b2378168babc000837ddbb   \n",
       "49090  62e027687040e2000923e82d  61b2378168babc000837ddbb   \n",
       "49091  62e03a0b39ea4e0009883c4f  61b2378168babc000837ddbb   \n",
       "49092  62e04a3094aff100091327aa  61deddb8bd577b0009b1fa52   \n",
       "\n",
       "                            email date_created  dias_registrado  \\\n",
       "0         avatarignis@hotmail.com   2022-08-11               50   \n",
       "1      cmenendezramos@outlook.com   2022-08-01               60   \n",
       "2             donbalon4@gmail.com   2022-06-08              114   \n",
       "3              eduplaza@gmail.com   2022-04-19              164   \n",
       "4              jure81@hotmail.com   2022-08-03               58   \n",
       "...                           ...          ...              ...   \n",
       "49088   cubillosrosario@gmail.com   2022-07-26               66   \n",
       "49089         cotigallo@gmail.com   2022-07-26               66   \n",
       "49090      taniaselaive@gmail.com   2022-07-26               66   \n",
       "49091         sromero@rdfmedia.cl   2022-07-26               66   \n",
       "49092          edith835@gmail.com   2022-07-26               66   \n",
       "\n",
       "                   condicion    sum_total  q_total  prom_total  freq_total  \\\n",
       "0      más de 30 días creado          NaN      NaN         NaN         NaN   \n",
       "1      más de 30 días creado  7394.983333     18.0  410.832407    0.300000   \n",
       "2      más de 30 días creado          NaN      NaN         NaN         NaN   \n",
       "3      más de 30 días creado   271.000000      1.0  271.000000    0.006098   \n",
       "4      más de 30 días creado  9786.933333     40.0  244.673333    0.689655   \n",
       "...                      ...          ...      ...         ...         ...   \n",
       "49088  más de 30 días creado          NaN      NaN         NaN         NaN   \n",
       "49089  más de 30 días creado          NaN      NaN         NaN         NaN   \n",
       "49090  más de 30 días creado    90.000000      2.0   45.000000    0.030303   \n",
       "49091  más de 30 días creado  4713.000000     46.0  102.456522    0.696970   \n",
       "49092  más de 30 días creado  2668.000000     20.0  133.400000    0.303030   \n",
       "\n",
       "       ...  freq_18a21  sum_21a06  q_21a06  prom_21a06  freq_21a06  sum_30ih  \\\n",
       "0      ...         NaN        NaN      NaN         NaN         NaN       NaN   \n",
       "1      ...    0.033333        NaN      NaN         NaN         NaN       NaN   \n",
       "2      ...         NaN        NaN      NaN         NaN         NaN       NaN   \n",
       "3      ...         NaN        NaN      NaN         NaN         NaN       NaN   \n",
       "4      ...    0.155172       17.0      1.0        17.0    0.017241     785.9   \n",
       "...    ...         ...        ...      ...         ...         ...       ...   \n",
       "49088  ...         NaN        NaN      NaN         NaN         NaN       NaN   \n",
       "49089  ...         NaN        NaN      NaN         NaN         NaN       NaN   \n",
       "49090  ...         NaN        NaN      NaN         NaN         NaN       NaN   \n",
       "49091  ...    0.212121        NaN      NaN         NaN         NaN       NaN   \n",
       "49092  ...    0.121212        NaN      NaN         NaN         NaN       NaN   \n",
       "\n",
       "       q_30ih   prom_30ih  freq_30ih       fecha  \n",
       "0         NaN         NaN        NaN  2022-09-30  \n",
       "1         NaN         NaN        NaN  2022-09-30  \n",
       "2         NaN         NaN        NaN  2022-09-30  \n",
       "3         NaN         NaN        NaN  2022-09-30  \n",
       "4         7.0  112.283333    0.12069  2022-09-30  \n",
       "...       ...         ...        ...         ...  \n",
       "49088     NaN         NaN        NaN  2022-09-30  \n",
       "49089     NaN         NaN        NaN  2022-09-30  \n",
       "49090     NaN         NaN        NaN  2022-09-30  \n",
       "49091     NaN         NaN        NaN  2022-09-30  \n",
       "49092     NaN         NaN        NaN  2022-09-30  \n",
       "\n",
       "[49093 rows x 63 columns]"
      ]
     },
     "execution_count": 28,
     "metadata": {},
     "output_type": "execute_result"
    }
   ],
   "source": [
    "output13"
   ]
  },
  {
   "cell_type": "code",
   "execution_count": 29,
   "metadata": {},
   "outputs": [
    {
     "ename": "ArrowTypeError",
     "evalue": "Expected bytes, got a 'datetime.date' object",
     "output_type": "error",
     "traceback": [
      "\u001b[1;31m---------------------------------------------------------------------------\u001b[0m",
      "\u001b[1;31mArrowTypeError\u001b[0m                            Traceback (most recent call last)",
      "\u001b[1;32m<ipython-input-29-f78724a969a5>\u001b[0m in \u001b[0;36m<module>\u001b[1;34m\u001b[0m\n\u001b[0;32m      9\u001b[0m \u001b[1;33m\u001b[0m\u001b[0m\n\u001b[0;32m     10\u001b[0m \u001b[1;31m# Make an API request.\u001b[0m\u001b[1;33m\u001b[0m\u001b[1;33m\u001b[0m\u001b[1;33m\u001b[0m\u001b[0m\n\u001b[1;32m---> 11\u001b[1;33m \u001b[0mjob\u001b[0m \u001b[1;33m=\u001b[0m \u001b[0mclient\u001b[0m\u001b[1;33m.\u001b[0m\u001b[0mload_table_from_dataframe\u001b[0m\u001b[1;33m(\u001b[0m\u001b[0moutput13\u001b[0m\u001b[1;33m,\u001b[0m \u001b[0mtable_id\u001b[0m\u001b[1;33m,\u001b[0m \u001b[0mjob_config\u001b[0m\u001b[1;33m=\u001b[0m\u001b[0mjob_config\u001b[0m\u001b[1;33m)\u001b[0m\u001b[1;33m\u001b[0m\u001b[1;33m\u001b[0m\u001b[0m\n\u001b[0m\u001b[0;32m     12\u001b[0m \u001b[1;33m\u001b[0m\u001b[0m\n\u001b[0;32m     13\u001b[0m \u001b[0mprint\u001b[0m\u001b[1;33m(\u001b[0m\u001b[0mjob\u001b[0m\u001b[1;33m.\u001b[0m\u001b[0mresult\u001b[0m\u001b[1;33m(\u001b[0m\u001b[1;33m)\u001b[0m\u001b[1;33m)\u001b[0m  \u001b[1;31m# Wait for the job to complete.\u001b[0m\u001b[1;33m\u001b[0m\u001b[1;33m\u001b[0m\u001b[0m\n",
      "\u001b[1;32mc:\\Users\\alopez\\Anaconda3\\lib\\site-packages\\google\\cloud\\bigquery\\client.py\u001b[0m in \u001b[0;36mload_table_from_dataframe\u001b[1;34m(self, dataframe, destination, num_retries, job_id, job_id_prefix, location, project, job_config, parquet_compression, timeout)\u001b[0m\n\u001b[0;32m   2669\u001b[0m                         \u001b[0mparquet_compression\u001b[0m \u001b[1;33m=\u001b[0m \u001b[0mparquet_compression\u001b[0m\u001b[1;33m.\u001b[0m\u001b[0mupper\u001b[0m\u001b[1;33m(\u001b[0m\u001b[1;33m)\u001b[0m\u001b[1;33m\u001b[0m\u001b[1;33m\u001b[0m\u001b[0m\n\u001b[0;32m   2670\u001b[0m \u001b[1;33m\u001b[0m\u001b[0m\n\u001b[1;32m-> 2671\u001b[1;33m                     _pandas_helpers.dataframe_to_parquet(\n\u001b[0m\u001b[0;32m   2672\u001b[0m                         \u001b[0mdataframe\u001b[0m\u001b[1;33m,\u001b[0m\u001b[1;33m\u001b[0m\u001b[1;33m\u001b[0m\u001b[0m\n\u001b[0;32m   2673\u001b[0m                         \u001b[0mjob_config\u001b[0m\u001b[1;33m.\u001b[0m\u001b[0mschema\u001b[0m\u001b[1;33m,\u001b[0m\u001b[1;33m\u001b[0m\u001b[1;33m\u001b[0m\u001b[0m\n",
      "\u001b[1;32mc:\\Users\\alopez\\Anaconda3\\lib\\site-packages\\google\\cloud\\bigquery\\_pandas_helpers.py\u001b[0m in \u001b[0;36mdataframe_to_parquet\u001b[1;34m(dataframe, bq_schema, filepath, parquet_compression, parquet_use_compliant_nested_type)\u001b[0m\n\u001b[0;32m    584\u001b[0m \u001b[1;33m\u001b[0m\u001b[0m\n\u001b[0;32m    585\u001b[0m     \u001b[0mbq_schema\u001b[0m \u001b[1;33m=\u001b[0m \u001b[0mschema\u001b[0m\u001b[1;33m.\u001b[0m\u001b[0m_to_schema_fields\u001b[0m\u001b[1;33m(\u001b[0m\u001b[0mbq_schema\u001b[0m\u001b[1;33m)\u001b[0m\u001b[1;33m\u001b[0m\u001b[1;33m\u001b[0m\u001b[0m\n\u001b[1;32m--> 586\u001b[1;33m     \u001b[0marrow_table\u001b[0m \u001b[1;33m=\u001b[0m \u001b[0mdataframe_to_arrow\u001b[0m\u001b[1;33m(\u001b[0m\u001b[0mdataframe\u001b[0m\u001b[1;33m,\u001b[0m \u001b[0mbq_schema\u001b[0m\u001b[1;33m)\u001b[0m\u001b[1;33m\u001b[0m\u001b[1;33m\u001b[0m\u001b[0m\n\u001b[0m\u001b[0;32m    587\u001b[0m     pyarrow.parquet.write_table(\n\u001b[0;32m    588\u001b[0m         \u001b[0marrow_table\u001b[0m\u001b[1;33m,\u001b[0m \u001b[0mfilepath\u001b[0m\u001b[1;33m,\u001b[0m \u001b[0mcompression\u001b[0m\u001b[1;33m=\u001b[0m\u001b[0mparquet_compression\u001b[0m\u001b[1;33m,\u001b[0m \u001b[1;33m**\u001b[0m\u001b[0mkwargs\u001b[0m\u001b[1;33m,\u001b[0m\u001b[1;33m\u001b[0m\u001b[1;33m\u001b[0m\u001b[0m\n",
      "\u001b[1;32mc:\\Users\\alopez\\Anaconda3\\lib\\site-packages\\google\\cloud\\bigquery\\_pandas_helpers.py\u001b[0m in \u001b[0;36mdataframe_to_arrow\u001b[1;34m(dataframe, bq_schema)\u001b[0m\n\u001b[0;32m    527\u001b[0m         \u001b[0marrow_names\u001b[0m\u001b[1;33m.\u001b[0m\u001b[0mappend\u001b[0m\u001b[1;33m(\u001b[0m\u001b[0mbq_field\u001b[0m\u001b[1;33m.\u001b[0m\u001b[0mname\u001b[0m\u001b[1;33m)\u001b[0m\u001b[1;33m\u001b[0m\u001b[1;33m\u001b[0m\u001b[0m\n\u001b[0;32m    528\u001b[0m         arrow_arrays.append(\n\u001b[1;32m--> 529\u001b[1;33m             \u001b[0mbq_to_arrow_array\u001b[0m\u001b[1;33m(\u001b[0m\u001b[0mget_column_or_index\u001b[0m\u001b[1;33m(\u001b[0m\u001b[0mdataframe\u001b[0m\u001b[1;33m,\u001b[0m \u001b[0mbq_field\u001b[0m\u001b[1;33m.\u001b[0m\u001b[0mname\u001b[0m\u001b[1;33m)\u001b[0m\u001b[1;33m,\u001b[0m \u001b[0mbq_field\u001b[0m\u001b[1;33m)\u001b[0m\u001b[1;33m\u001b[0m\u001b[1;33m\u001b[0m\u001b[0m\n\u001b[0m\u001b[0;32m    530\u001b[0m         )\n\u001b[0;32m    531\u001b[0m         \u001b[0marrow_fields\u001b[0m\u001b[1;33m.\u001b[0m\u001b[0mappend\u001b[0m\u001b[1;33m(\u001b[0m\u001b[0mbq_to_arrow_field\u001b[0m\u001b[1;33m(\u001b[0m\u001b[0mbq_field\u001b[0m\u001b[1;33m,\u001b[0m \u001b[0marrow_arrays\u001b[0m\u001b[1;33m[\u001b[0m\u001b[1;33m-\u001b[0m\u001b[1;36m1\u001b[0m\u001b[1;33m]\u001b[0m\u001b[1;33m.\u001b[0m\u001b[0mtype\u001b[0m\u001b[1;33m)\u001b[0m\u001b[1;33m)\u001b[0m\u001b[1;33m\u001b[0m\u001b[1;33m\u001b[0m\u001b[0m\n",
      "\u001b[1;32mc:\\Users\\alopez\\Anaconda3\\lib\\site-packages\\google\\cloud\\bigquery\\_pandas_helpers.py\u001b[0m in \u001b[0;36mbq_to_arrow_array\u001b[1;34m(series, bq_field)\u001b[0m\n\u001b[0;32m    288\u001b[0m     \u001b[1;32mif\u001b[0m \u001b[0mfield_type_upper\u001b[0m \u001b[1;32min\u001b[0m \u001b[0mschema\u001b[0m\u001b[1;33m.\u001b[0m\u001b[0m_STRUCT_TYPES\u001b[0m\u001b[1;33m:\u001b[0m\u001b[1;33m\u001b[0m\u001b[1;33m\u001b[0m\u001b[0m\n\u001b[0;32m    289\u001b[0m         \u001b[1;32mreturn\u001b[0m \u001b[0mpyarrow\u001b[0m\u001b[1;33m.\u001b[0m\u001b[0mStructArray\u001b[0m\u001b[1;33m.\u001b[0m\u001b[0mfrom_pandas\u001b[0m\u001b[1;33m(\u001b[0m\u001b[0mseries\u001b[0m\u001b[1;33m,\u001b[0m \u001b[0mtype\u001b[0m\u001b[1;33m=\u001b[0m\u001b[0marrow_type\u001b[0m\u001b[1;33m)\u001b[0m\u001b[1;33m\u001b[0m\u001b[1;33m\u001b[0m\u001b[0m\n\u001b[1;32m--> 290\u001b[1;33m     \u001b[1;32mreturn\u001b[0m \u001b[0mpyarrow\u001b[0m\u001b[1;33m.\u001b[0m\u001b[0mArray\u001b[0m\u001b[1;33m.\u001b[0m\u001b[0mfrom_pandas\u001b[0m\u001b[1;33m(\u001b[0m\u001b[0mseries\u001b[0m\u001b[1;33m,\u001b[0m \u001b[0mtype\u001b[0m\u001b[1;33m=\u001b[0m\u001b[0marrow_type\u001b[0m\u001b[1;33m)\u001b[0m\u001b[1;33m\u001b[0m\u001b[1;33m\u001b[0m\u001b[0m\n\u001b[0m\u001b[0;32m    291\u001b[0m \u001b[1;33m\u001b[0m\u001b[0m\n\u001b[0;32m    292\u001b[0m \u001b[1;33m\u001b[0m\u001b[0m\n",
      "\u001b[1;32mc:\\Users\\alopez\\Anaconda3\\lib\\site-packages\\pyarrow\\array.pxi\u001b[0m in \u001b[0;36mpyarrow.lib.Array.from_pandas\u001b[1;34m()\u001b[0m\n",
      "\u001b[1;32mc:\\Users\\alopez\\Anaconda3\\lib\\site-packages\\pyarrow\\array.pxi\u001b[0m in \u001b[0;36mpyarrow.lib.array\u001b[1;34m()\u001b[0m\n",
      "\u001b[1;32mc:\\Users\\alopez\\Anaconda3\\lib\\site-packages\\pyarrow\\array.pxi\u001b[0m in \u001b[0;36mpyarrow.lib._ndarray_to_array\u001b[1;34m()\u001b[0m\n",
      "\u001b[1;32mc:\\Users\\alopez\\Anaconda3\\lib\\site-packages\\pyarrow\\error.pxi\u001b[0m in \u001b[0;36mpyarrow.lib.check_status\u001b[1;34m()\u001b[0m\n",
      "\u001b[1;31mArrowTypeError\u001b[0m: Expected bytes, got a 'datetime.date' object"
     ]
    }
   ],
   "source": [
    "client = bigquery.Client()\n",
    "\n",
    "table_id = \"conexion-datos-rdf.indicadores_cia.indicadores_220930\"\n",
    "\n",
    "job_config = bigquery.LoadJobConfig(\n",
    "        schema=[],\n",
    "        write_disposition=\"WRITE_TRUNCATE\",\n",
    "        )\n",
    "    \n",
    "# Make an API request.\n",
    "job = client.load_table_from_dataframe(output13, table_id, job_config=job_config) \n",
    "\n",
    "print(job.result())  # Wait for the job to complete.   "
   ]
  }
 ],
 "metadata": {
  "kernelspec": {
   "display_name": "Python 3.8.8 ('base')",
   "language": "python",
   "name": "python3"
  },
  "language_info": {
   "codemirror_mode": {
    "name": "ipython",
    "version": 3
   },
   "file_extension": ".py",
   "mimetype": "text/x-python",
   "name": "python",
   "nbconvert_exporter": "python",
   "pygments_lexer": "ipython3",
   "version": "3.8.8"
  },
  "orig_nbformat": 4,
  "vscode": {
   "interpreter": {
    "hash": "2c6fbda2488a67f21337359f03bca5305f1d74b510f165862164d92d24f216f3"
   }
  }
 },
 "nbformat": 4,
 "nbformat_minor": 2
}
