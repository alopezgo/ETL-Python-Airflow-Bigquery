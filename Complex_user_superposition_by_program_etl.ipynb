{
 "cells": [
  {
   "cell_type": "markdown",
   "metadata": {},
   "source": [
    "IMPORTACIÓN DE LIBRERIAS"
   ]
  },
  {
   "cell_type": "code",
   "execution_count": 1,
   "metadata": {},
   "outputs": [],
   "source": [
    "from google.cloud import bigquery\n",
    "from cmath import nan\n",
    "import pandas as pd\n",
    "import pytz\n",
    "import numpy as np\n",
    "import itertools\n",
    "from tqdm.notebook import tqdm_notebook\n",
    "\n",
    "# credenciales airflow\n",
    "#_google_key = \"/home/airflow/airflow/dags/servacc_bigquery.json\"\n",
    "_google_key = \"../Credenciales/servacc_bigquery.json\""
   ]
  },
  {
   "cell_type": "markdown",
   "metadata": {},
   "source": [
    "SE CREA DF USUARIOS_PROGRAMAS PARA COMBINAR PROGRAMAS Y USUARIOS"
   ]
  },
  {
   "cell_type": "code",
   "execution_count": 2,
   "metadata": {},
   "outputs": [],
   "source": [
    "query_usuarios_programas = \"\"\"\n",
    "WITH programas AS (\n",
    "  SELECT\n",
    "    dicc.programa, dicc.soporte, content_id,\n",
    "    datetime(fecha, dicc.inicio_oficial) AS hora_inicio,\n",
    "    datetime(fecha, dicc.fin_oficial) AS hora_fin,\n",
    "  FROM UNNEST(GENERATE_DATE_ARRAY(\"2022-03-15\",CURRENT_DATE(),INTERVAL 1 day)) AS fecha\n",
    "  CROSS JOIN `conexion-datos-rdf.diccionarios.dicc_programas` AS dicc\n",
    "  WHERE EXTRACT(dayofweek FROM fecha) IN (SELECT dias FROM UNNEST(dicc.dias) dias)\n",
    "    AND dicc.activo\n",
    "  ORDER BY hora_inicio DESC\n",
    ")\n",
    "  SELECT\n",
    "    programas.soporte,\n",
    "    programas.programa,\n",
    "    consumo.content_id,\n",
    "    consumo.user_id,\n",
    "    programas.hora_inicio AS periodo,\n",
    "  FROM `conexion-datos-rdf.consumo.consumo_detalle` AS consumo\n",
    "  JOIN `webhooks.usuarios_unicos` as users\n",
    "    on consumo.user_id = users.platform_id\n",
    "  JOIN programas\n",
    "  ON datetime(consumo.end_date, \"America/Santiago\") >= programas.hora_inicio \n",
    "    AND datetime(consumo.start_date,\"America/Santiago\") < programas.hora_fin\n",
    "    AND consumo.content_id = programas.content_id\n",
    "  WHERE consumo.start_date >= \"2022-03-13\"\n",
    "  AND user_id IS NOT NULL\n",
    "    \"\"\"\n",
    "\n",
    "client = bigquery.Client.from_service_account_json(_google_key)\n",
    "usuarios_programas = client.query(query_usuarios_programas).result(\n",
    ").to_dataframe(create_bqstorage_client=False)\n",
    "\n",
    "\"\"\" Se crea columna día que extrae date de la columna periodo, con el própósito de \n",
    "    usarla como columna de unión al momento de crear el df_super, que es la unión \n",
    "    de usuarios_programas consigo misma.\n",
    "\"\"\"\n",
    "usuarios_programas['dia'] = usuarios_programas['periodo'].dt.date\n"
   ]
  },
  {
   "cell_type": "markdown",
   "metadata": {},
   "source": [
    "SE CREA DF SUPER QUE COMBINA DE PROGRAMA_REFERENCIA CON TODOS LOS PROGRAMAS"
   ]
  },
  {
   "cell_type": "code",
   "execution_count": 3,
   "metadata": {},
   "outputs": [],
   "source": [
    "df_super = pd.merge(usuarios_programas, usuarios_programas, how=\"left\", on=[\"soporte\", \"content_id\", \"user_id\", \"dia\"])\n",
    "df_super = df_super.rename(columns={\"programa_x\": \"programa\", \"periodo_x\": \"periodo\",\n",
    "                           \"programa_y\": \"programa_referencia\", \"periodo_y\": \"periodo_referencia\"}).copy()\n",
    "df_super = df_super[[\"soporte\", \"content_id\", \"programa\", \"periodo\", \"programa_referencia\", \"periodo_referencia\", \"user_id\"]]"
   ]
  },
  {
   "cell_type": "markdown",
   "metadata": {},
   "source": [
    "SE CREA DF_SUPER_COUNT PARA CONTAR USUARIOS POR PROGRAMA"
   ]
  },
  {
   "cell_type": "code",
   "execution_count": 4,
   "metadata": {},
   "outputs": [],
   "source": [
    "df_super_count = df_super.copy()\n",
    "df_super_count = df_super_count.groupby(by=[\"soporte\", \"content_id\", \"programa\", \"periodo\", \"programa_referencia\", \"periodo_referencia\"])[\n",
    "            \"user_id\"].nunique().to_frame(name='usuarios').reset_index()"
   ]
  },
  {
   "cell_type": "markdown",
   "metadata": {},
   "source": [
    "SE CREA DF_PROGRAMAS PARA LOGRAR DF_COMB QUE ES LA GRILLA "
   ]
  },
  {
   "cell_type": "code",
   "execution_count": 5,
   "metadata": {},
   "outputs": [],
   "source": [
    "query_programas = \"\"\"\n",
    "SELECT\n",
    "    dicc.programa, \n",
    "    dicc.soporte, \n",
    "    content_id,\n",
    "    datetime(fecha, dicc.inicio_oficial) AS hora_inicio,\n",
    "    datetime(fecha, dicc.fin_oficial) AS hora_fin,\n",
    "  FROM UNNEST(GENERATE_DATE_ARRAY(\"2022-03-15\",CURRENT_DATE(),INTERVAL 1 day)) AS fecha\n",
    "  CROSS JOIN `conexion-datos-rdf.diccionarios.dicc_programas` AS dicc\n",
    "  WHERE EXTRACT(dayofweek FROM fecha) IN (SELECT dias FROM UNNEST(dicc.dias) dias)\n",
    "    AND dicc.activo\n",
    "\"\"\"\n",
    "df_programas = client.query(query_programas).result(\n",
    ").to_dataframe(create_bqstorage_client=False)\n",
    "df_programas['dia'] = df_programas['hora_inicio'].dt.date"
   ]
  },
  {
   "cell_type": "markdown",
   "metadata": {},
   "source": [
    "SE CREA DF_COMB CON TODOS LOS PROGRAMAS COMBINADOS CON PROGRAMA_REFERENCIA"
   ]
  },
  {
   "cell_type": "code",
   "execution_count": 6,
   "metadata": {},
   "outputs": [],
   "source": [
    "# esta es mi grilla, es decir, me trae el cruce de todos los programas independiente de si consumieron usuarios o no\n",
    "df_comb = pd.merge(df_programas, df_programas, how=\"inner\", on=[\"content_id\", \"dia\"])\n",
    "df_comb = df_comb.drop([\"hora_fin_x\", \"hora_fin_y\", \"soporte_y\", \"dia\"], axis=1).copy()\n",
    "df_comb = df_comb.rename(columns={\"programa_x\": \"programa\", \"soporte_x\": \"soporte\", \"hora_inicio_x\": \"periodo\",\n",
    "                                  \"programa_y\": \"programa_referencia\", \"hora_inicio_y\": \"periodo_referencia\"})\n",
    "df_comb['hora'] = df_comb['periodo'].dt.time\n",
    "df_comb['hora_referencia'] = df_comb['periodo_referencia'].dt.time\n",
    "df_comb = df_comb[[\"content_id\", \"soporte\", \"programa\", \"periodo\", \"hora\", \"programa_referencia\",\n",
    "                  \"periodo_referencia\", \"hora_referencia\"]]"
   ]
  },
  {
   "cell_type": "markdown",
   "metadata": {},
   "source": [
    "SE CREA DF_USUARIOS "
   ]
  },
  {
   "cell_type": "code",
   "execution_count": 7,
   "metadata": {},
   "outputs": [],
   "source": [
    "query_usuarios = \"\"\"\n",
    "    Select \n",
    "    users.platform_id as user_id,\n",
    "    users.gender,\n",
    "    tramo.nombre,\n",
    "    tramo.desc_tramo\n",
    "    from `conexion-datos-rdf.webhooks.usuarios_unicos` as users\n",
    "    left join `conexion-datos-rdf.diccionarios.dicc_tramo_etario` as tramo\n",
    "    on ABS(CAST(TRUNC(DATE_DIFF(CURRENT_DATE(), DATE(birthday), month) / 12) AS INTEGER )) \n",
    "    between tramo.edad_inf and tramo.edad_sup\n",
    "\"\"\"\n",
    "df_users = client.query(query_usuarios).result().to_dataframe(create_bqstorage_client=False)\n",
    "df_users['gender'] = df_users['gender'].replace(['FEMALE', 'MALE', 'OTHER'], ['femenino', 'masculino', 'otro género'])"
   ]
  },
  {
   "cell_type": "markdown",
   "metadata": {},
   "source": [
    "SE CREAN DF_USUARIOS POR SEGMENTOS GÉNERO, RADIAL, DIGITAL Y COMBINADOS"
   ]
  },
  {
   "cell_type": "code",
   "execution_count": 8,
   "metadata": {},
   "outputs": [],
   "source": [
    "df_users_genero = df_users[['user_id', 'gender']]\n",
    "df_users_femenino = df_users_genero[df_users_genero['gender'] == 'femenino']\n",
    "df_users_masculino = df_users_genero[df_users_genero['gender'] == 'masculino']\n",
    "df_users_otro = df_users_genero[df_users_genero['gender'] == 'otro género']\n",
    "\n",
    "df_users_tramo = df_users[['user_id', 'nombre', 'desc_tramo']]\n",
    "df_users_radial = df_users_tramo[df_users_tramo['nombre'] == 'Radial']\n",
    "df_users_r_otros = df_users_radial[df_users_radial['desc_tramo'] == 'otros edad']\n",
    "df_users_r_15a19 = df_users_radial[df_users_radial['desc_tramo'] == '15 - 19']\n",
    "df_users_r_20a24 = df_users_radial[df_users_radial['desc_tramo'] == '20 - 24']\n",
    "df_users_r_25a34 = df_users_radial[df_users_radial['desc_tramo'] == '25 - 34']\n",
    "df_users_r_35a44 = df_users_radial[df_users_radial['desc_tramo'] == '35 - 44']\n",
    "df_users_r_45a59 = df_users_radial[df_users_radial['desc_tramo'] == '45 - 59']\n",
    "df_users_r_60 = df_users_radial[df_users_radial['desc_tramo'] == '60 o más']\n",
    "\n",
    "df_users_digital = df_users_tramo[df_users_tramo['nombre'] == 'Digital']\n",
    "df_users_d_otros = df_users_digital[df_users_digital['desc_tramo'] == 'otros edad']\n",
    "df_users_d_18a24 = df_users_digital[df_users_digital['desc_tramo'] == '18 - 24']\n",
    "df_users_d_25a34 = df_users_digital[df_users_digital['desc_tramo'] == '25 - 34']\n",
    "df_users_d_35a44 = df_users_digital[df_users_digital['desc_tramo'] == '35 - 44']\n",
    "df_users_d_45a54 = df_users_digital[df_users_digital['desc_tramo'] == '45 - 54']\n",
    "df_users_d_55a64 = df_users_digital[df_users_digital['desc_tramo'] == '55 - 64']\n",
    "df_users_d_65 = df_users_digital[df_users_digital['desc_tramo'] == '65 o más']\n",
    "\n",
    "df_users_femenino_radial = df_users[(df_users.gender == 'femenino') & (df_users.nombre == 'Radial')]\n",
    "df_users_femenino_digital = df_users[(df_users.gender == 'femenino') & (df_users.nombre == 'Digital')]\n",
    "df_users_masculino_radial = df_users[(df_users.gender == 'masculino') & (df_users.nombre == 'Radial')]\n",
    "df_users_masculino_digital = df_users[(df_users.gender == 'masculino') & (df_users.nombre == 'Digital')]\n",
    "df_users_otrogen_radial = df_users[(df_users.gender == 'otro género') & (df_users.nombre == 'Radial')]\n",
    "df_users_otrogen_digital = df_users[(df_users.gender == 'otro género') & (df_users.nombre == 'Digital')]"
   ]
  },
  {
   "cell_type": "markdown",
   "metadata": {},
   "source": [
    "SE CREAN LISTAS DE USUARIOS SEGÚN SEGMENTO PARA USAR EN LAS FUNCIONES"
   ]
  },
  {
   "cell_type": "code",
   "execution_count": 9,
   "metadata": {},
   "outputs": [],
   "source": [
    "df_list_genero = [df_users_femenino, df_users_masculino, df_users_otro]\n",
    "df_list_tramo = [df_users_r_otros, df_users_r_15a19, df_users_r_20a24,\n",
    "                 df_users_r_25a34, df_users_r_35a44, df_users_r_45a59, df_users_r_60]\n",
    "df_list_digital = [df_users_d_otros, df_users_d_18a24, df_users_d_25a34,\n",
    "                   df_users_d_35a44, df_users_d_45a54, df_users_d_55a64, df_users_d_65]\n",
    "df_list_combinados = [df_users_femenino_radial, df_users_femenino_digital, df_users_masculino_radial, \n",
    "                        df_users_masculino_digital, df_users_otrogen_radial, df_users_otrogen_digital]"
   ]
  },
  {
   "cell_type": "markdown",
   "metadata": {},
   "source": [
    "SE CREA FUNCIÓN para obtener segmentos Género"
   ]
  },
  {
   "cell_type": "code",
   "execution_count": 10,
   "metadata": {},
   "outputs": [],
   "source": [
    "def gen_df_genero(df_super: pd.DataFrame, df_super_count: pd.DataFrame, df_comb: pd.DataFrame, list_df_segmento: list):\n",
    "\n",
    "    df_super_genero = pd.DataFrame()\n",
    "\n",
    "    for df_segmento in tqdm_notebook(list_df_segmento):\n",
    "\n",
    "        # generamos df_super\n",
    "        df_super_seg = pd.merge(df_super, df_segmento,\n",
    "                                how=\"inner\",  on=\"user_id\")\n",
    "        # generamos df_super_count\n",
    "        df_super_count_seg = df_super_seg.groupby(by=[\"soporte\", \"content_id\", \"programa\", \"periodo\", \"programa_referencia\",\n",
    "                                                  \"periodo_referencia\", \"gender\"])[\"user_id\"].nunique().to_frame(name='usuarios').reset_index()\n",
    "        # #cruzamos df_comb con df_super_femenino_count para obtener total de usuarios que consumen programa de referencia con programa\n",
    "\n",
    "        df_superpos_1 = pd.merge(df_comb, df_super_count_seg, how=\"inner\", on=[\"content_id\", \"periodo\", \"programa\", \"periodo_referencia\", \"programa_referencia\"])\n",
    "        del df_superpos_1['soporte_y']\n",
    "        df_superpos_1['dia'] = df_superpos_1['periodo'].dt.date\n",
    "        df_superpos_1 = df_superpos_1.rename(columns={\"soporte_x\": \"soporte\", \"gender\": \"segmento\"}).copy()\n",
    "        df_superpos_1 = df_superpos_1[[\"dia\", \"content_id\", \"soporte\", \"programa\", \"periodo\", \"hora\", \"programa_referencia\", \"periodo_referencia\", \"hora_referencia\", \"usuarios\", \"segmento\"]]\n",
    "        df_superpos_1.usuarios = df_superpos_1.usuarios.fillna(0)\n",
    "\n",
    "        df_superpos_2 = df_superpos_1.copy()\n",
    "        df_superpos_2['key_periodo'] = df_superpos_2['periodo_referencia']\n",
    "        df_superpos_2['key_programa'] = df_superpos_2['programa_referencia']\n",
    "\n",
    "        df_super_count = df_super_count.rename(columns={'periodo': 'key_periodo', 'programa': 'key_programa'})\n",
    "\n",
    "        df_superpos = pd.merge(df_superpos_2, df_super_count, how=\"left\", on=[\"key_periodo\", \"periodo_referencia\", \"key_programa\", \"programa_referencia\", \"content_id\"])\n",
    "        df_superpos = df_superpos.drop([\"key_periodo\", \"key_programa\", \"soporte_y\"], axis=1).copy()\n",
    "        df_superpos = df_superpos.rename(columns={\"soporte_x\": \"soporte\", \"usuarios_x\": \"usuarios\", \"usuarios_y\": \"total\"})\n",
    "        df_superpos['tipo_tramo'] = \"Género\"\n",
    "        df_superpos = df_superpos[[\"dia\", \"content_id\", \"soporte\", \"programa\", \"periodo\", \"hora\", \"programa_referencia\", \"periodo_referencia\", \"hora_referencia\", \"usuarios\", \"total\", \"tipo_tramo\", \"segmento\"]]\n",
    "\n",
    "        df_superpos.total = df_superpos.total.fillna(0)\n",
    "        df_superpos[\"usuarios\"] = df_superpos['usuarios'].astype('int64')\n",
    "        df_superpos[\"total\"] = df_superpos['total'].astype('int64')\n",
    "        df_superpos = df_superpos[df_superpos['segmento'].notna()]\n",
    "\n",
    "        df_super_genero = pd.concat(objs=[df_super_genero, df_superpos], axis=0)\n",
    "\n",
    "    return df_super_genero"
   ]
  },
  {
   "cell_type": "markdown",
   "metadata": {},
   "source": [
    "SE CREA FUNCIÓN para obtener segmento EDAD Radial"
   ]
  },
  {
   "cell_type": "code",
   "execution_count": 11,
   "metadata": {},
   "outputs": [],
   "source": [
    "def gen_df_tramos(df_super: pd.DataFrame, df_super_count: pd.DataFrame, df_comb: pd.DataFrame, list_df_segmento: list):\n",
    "\n",
    "    df_super_tramo = pd.DataFrame()\n",
    "\n",
    "    for df_segmento in tqdm_notebook(list_df_segmento):\n",
    "\n",
    "        df_super_r = pd.merge(df_super, df_segmento, how=\"inner\", on=\"user_id\")\n",
    "\n",
    "        df_super_r_count = df_super_r.groupby(by=[\"soporte\", \"content_id\", \"programa\", \"periodo\", \"programa_referencia\",\n",
    "                                                  \"periodo_referencia\", \"nombre\", \"desc_tramo\"])[\"user_id\"].nunique().to_frame(name='usuarios').reset_index()\n",
    "\n",
    "        df_superpos_r_1 = pd.merge(df_comb, df_super_r_count, how=\"inner\", on=[\"content_id\", \"periodo\", \"programa\", \"periodo_referencia\", \"programa_referencia\"])\n",
    "        del df_superpos_r_1['soporte_y']\n",
    "        df_superpos_r_1['dia'] = df_superpos_r_1['periodo'].dt.date\n",
    "        df_superpos_r_1 = df_superpos_r_1.rename(columns={\"soporte_x\": \"soporte\", \"nombre\": \"tipo_tramo\", \"desc_tramo\": \"segmento\"}).copy()\n",
    "        df_superpos_r_1 = df_superpos_r_1[[\"dia\", \"content_id\", \"soporte\", \"programa\", \"periodo\", \"hora\",\"programa_referencia\", \"periodo_referencia\", \"hora_referencia\", \"usuarios\", \"tipo_tramo\", \"segmento\"]]\n",
    "        df_superpos_r_1.usuarios = df_superpos_r_1.usuarios.fillna(0)\n",
    "\n",
    "        df_superpos_r_2 = df_superpos_r_1.copy()\n",
    "        df_superpos_r_2['key_periodo'] = df_superpos_r_2['periodo_referencia']\n",
    "        df_superpos_r_2['key_programa'] = df_superpos_r_2['programa_referencia']\n",
    "        \n",
    "        df_super_count = df_super_count.rename(columns={'periodo': 'key_periodo', 'programa': 'key_programa'})\n",
    "\n",
    "        df_superpos_r = pd.merge(df_superpos_r_2, df_super_count, how=\"left\", on=[\"key_periodo\", \"periodo_referencia\", \"key_programa\", \"programa_referencia\", \"content_id\"])\n",
    "        df_superpos_r = df_superpos_r.drop([\"key_periodo\", \"key_programa\", \"soporte_y\"], axis=1).copy()\n",
    "        df_superpos_r = df_superpos_r.rename(columns={\"soporte_x\": \"soporte\", \"usuarios_x\": \"usuarios\", \"usuarios_y\": \"total\"})\n",
    "        df_superpos_r = df_superpos_r[[\"dia\", \"content_id\", \"soporte\", \"programa\", \"periodo\", \"hora\", \"programa_referencia\", \"periodo_referencia\", \"hora_referencia\", \"usuarios\", \"total\", \"tipo_tramo\", \"segmento\"]]\n",
    "\n",
    "        df_superpos_r.total = df_superpos_r.total.fillna(0)\n",
    "        df_superpos_r[\"usuarios\"] = df_superpos_r['usuarios'].astype('int64')\n",
    "        df_superpos_r[\"total\"] = df_superpos_r['total'].astype('int64')\n",
    "        df_superpos_r = df_superpos_r[df_superpos_r['segmento'].notna()]\n",
    "\n",
    "        df_super_tramo = pd.concat(objs=[df_super_tramo, df_superpos_r], axis=0)\n",
    "\n",
    "    return df_super_tramo"
   ]
  },
  {
   "cell_type": "markdown",
   "metadata": {},
   "source": [
    "SE CREA FUNCIÓN para pbtener segmento EDAD Digital"
   ]
  },
  {
   "cell_type": "code",
   "execution_count": 12,
   "metadata": {},
   "outputs": [],
   "source": [
    "def gen_df_digital(df_super: pd.DataFrame, df_super_count: pd.DataFrame, df_comb: pd.DataFrame, list_df_segmento: list):\n",
    "\n",
    "    df_super_digital = pd.DataFrame()\n",
    "\n",
    "    for df_segmento in tqdm_notebook(list_df_segmento):\n",
    "\n",
    "        df_super_d = pd.merge(df_super, df_segmento, how=\"inner\", on=\"user_id\")\n",
    "\n",
    "        df_super_d_count = df_super_d.groupby(by=[\"soporte\", \"content_id\", \"programa\", \"periodo\", \"programa_referencia\", \"periodo_referencia\", \"nombre\", \"desc_tramo\"])[\"user_id\"].nunique().to_frame(name='usuarios').reset_index()\n",
    "\n",
    "        df_superpos_d_1 = pd.merge(df_comb, df_super_d_count, how=\"inner\", on=[\"content_id\", \"periodo\", \"programa\", \"periodo_referencia\", \"programa_referencia\"])\n",
    "        del df_superpos_d_1['soporte_y']\n",
    "        df_superpos_d_1['dia'] = df_superpos_d_1['periodo'].dt.date\n",
    "        df_superpos_d_1 = df_superpos_d_1.rename(columns={\"soporte_x\": \"soporte\", \"nombre\": \"tipo_tramo\", \"desc_tramo\": \"segmento\"}).copy()\n",
    "        df_superpos_d_1 = df_superpos_d_1[[\"dia\", \"content_id\", \"soporte\", \"programa\", \"periodo\", \"hora\", \"programa_referencia\", \"periodo_referencia\", \"hora_referencia\", \"usuarios\", \"tipo_tramo\", \"segmento\"]]\n",
    "        df_superpos_d_1.usuarios = df_superpos_d_1.usuarios.fillna(0)\n",
    "\n",
    "        df_superpos_d_2 = df_superpos_d_1.copy()\n",
    "        df_superpos_d_2['key_periodo'] = df_superpos_d_2['periodo_referencia']\n",
    "        df_superpos_d_2['key_programa'] = df_superpos_d_2['programa_referencia']\n",
    "        \n",
    "        df_super_count = df_super_count.rename(columns={'periodo': 'key_periodo', 'programa': 'key_programa'})\n",
    "        \n",
    "        df_superpos_d = pd.merge(df_superpos_d_2, df_super_count, how=\"left\", on=[\"key_periodo\", \"periodo_referencia\", \"key_programa\", \"programa_referencia\", \"content_id\"])\n",
    "        df_superpos_d = df_superpos_d.drop([\"key_periodo\", \"key_programa\", \"soporte_y\"], axis=1).copy()\n",
    "        df_superpos_d = df_superpos_d.rename(columns={\"soporte_x\": \"soporte\", \"usuarios_x\": \"usuarios\", \"usuarios_y\": \"total\"})\n",
    "        df_superpos_d = df_superpos_d[[\"dia\", \"content_id\", \"soporte\", \"programa\", \"periodo\", \"hora\", \"programa_referencia\", \"periodo_referencia\", \"hora_referencia\", \"usuarios\", \"total\", \"tipo_tramo\", \"segmento\"]]\n",
    "\n",
    "        df_superpos_d.total = df_superpos_d.total.fillna(0)\n",
    "        df_superpos_d[\"usuarios\"] = df_superpos_d['usuarios'].astype('int64')\n",
    "        df_superpos_d[\"total\"] = df_superpos_d['total'].astype('int64')\n",
    "        df_superpos_d = df_superpos_d[df_superpos_d['segmento'].notna()]\n",
    "\n",
    "        df_super_digital = pd.concat(objs=[df_super_digital, df_superpos_d], axis=0)\n",
    "\n",
    "    return df_super_digital"
   ]
  },
  {
   "cell_type": "markdown",
   "metadata": {},
   "source": [
    "SE CREA FUNCIÓN para obtener segmento Combinado"
   ]
  },
  {
   "cell_type": "code",
   "execution_count": 13,
   "metadata": {},
   "outputs": [],
   "source": [
    "def gen_df_combinados (df_super: pd.DataFrame, df_super_count: pd.DataFrame, df_comb: pd.DataFrame, df_list_combinados: list):\n",
    "    \n",
    "    df_super_combinado = pd.DataFrame()\n",
    "    \n",
    "    for df_segmento in tqdm_notebook(df_list_combinados):\n",
    "        \n",
    "        df_super_comb = pd.merge(df_super, df_segmento, how=\"inner\", on=\"user_id\")\n",
    "\n",
    "        df_super_comb_count = df_super_comb.groupby(by=[\"soporte\", \"content_id\", \"programa\", \"periodo\", \"programa_referencia\", \"periodo_referencia\",\"gender\", \"nombre\", \"desc_tramo\"])[\"user_id\"].nunique().to_frame(name='usuarios').reset_index()\n",
    "\n",
    "        df_superpos_comb_1 = pd.merge(df_comb, df_super_comb_count, how=\"inner\", on=[\"content_id\", \"periodo\", \"programa\", \"periodo_referencia\", \"programa_referencia\"])\n",
    "        del df_superpos_comb_1['soporte_y']\n",
    "        df_superpos_comb_1['dia'] = df_superpos_comb_1['periodo'].dt.date\n",
    "        df_superpos_comb_1 = df_superpos_comb_1.rename(columns={\"soporte_x\": \"soporte\", \"nombre\": \"tipo_tramo\", \"desc_tramo\": \"segmento\"}).copy()\n",
    "        df_superpos_comb_1['tipo_tramo'] = 'Género ' + (df_superpos_comb_1['tipo_tramo'])\n",
    "        df_superpos_comb_1['segmento'] = (df_superpos_comb_1['gender'] + ' ' + df_superpos_comb_1['segmento'] )\n",
    "        del df_superpos_comb_1['gender']\n",
    "        df_superpos_comb_1 = df_superpos_comb_1[[\"dia\", \"content_id\", \"soporte\", \"programa\", \"periodo\", \"hora\", \"programa_referencia\", \"periodo_referencia\", \"hora_referencia\", \"usuarios\", \"tipo_tramo\", \"segmento\"]]\n",
    "        df_superpos_comb_1.usuarios = df_superpos_comb_1.usuarios.fillna(0)\n",
    "\n",
    "        df_superpos_comb_2 = df_superpos_comb_1.copy()\n",
    "        df_superpos_comb_2['key_periodo'] = df_superpos_comb_2['periodo_referencia']\n",
    "        df_superpos_comb_2['key_programa'] = df_superpos_comb_2['programa_referencia']\n",
    "\n",
    "        df_super_count = df_super_count.rename(columns={'periodo': 'key_periodo', 'programa': 'key_programa'})\n",
    "\n",
    "        df_superpos_comb = pd.merge(df_superpos_comb_2, df_super_count, how=\"left\", on=[\"key_periodo\", \"periodo_referencia\", \"key_programa\", \"programa_referencia\", \"content_id\"])\n",
    "        df_superpos_comb = df_superpos_comb.drop([\"key_periodo\", \"key_programa\", \"soporte_y\"], axis=1).copy()\n",
    "        df_superpos_comb = df_superpos_comb.rename(columns={\"soporte_x\": \"soporte\", \"usuarios_x\": \"usuarios\", \"usuarios_y\": \"total\"})\n",
    "        df_superpos_comb = df_superpos_comb[[\"dia\", \"content_id\", \"soporte\", \"programa\", \"periodo\", \"hora\", \"programa_referencia\", \"periodo_referencia\", \"hora_referencia\", \"usuarios\", \"total\", \"tipo_tramo\", \"segmento\"]]\n",
    "\n",
    "        df_superpos_comb.total = df_superpos_comb.total.fillna(0)\n",
    "        df_superpos_comb[\"usuarios\"] = df_superpos_comb['usuarios'].astype('int64')\n",
    "        df_superpos_comb[\"total\"] = df_superpos_comb['total'].astype('int64')\n",
    "        df_superpos_comb = df_superpos_comb[df_superpos_comb['segmento'].notna()]\n",
    "\n",
    "        df_super_combinado = pd.concat(objs=[df_super_combinado, df_superpos_comb], axis=0)\n",
    "\n",
    "    return df_super_combinado\n"
   ]
  },
  {
   "cell_type": "code",
   "execution_count": null,
   "metadata": {},
   "outputs": [],
   "source": []
  },
  {
   "cell_type": "code",
   "execution_count": null,
   "metadata": {},
   "outputs": [],
   "source": []
  },
  {
   "cell_type": "code",
   "execution_count": null,
   "metadata": {},
   "outputs": [],
   "source": []
  },
  {
   "cell_type": "markdown",
   "metadata": {},
   "source": [
    "SE OBTIENE DF_SUPERPOSICION_PROGRAMAS SIN SEGMENTAR"
   ]
  },
  {
   "cell_type": "code",
   "execution_count": 14,
   "metadata": {},
   "outputs": [],
   "source": [
    "\"\"\" Se une comb con super(count) y nuevamente con super(count) para primero unir grilla con consumo \n",
    "    obteniendo cantidad de usuarios que consumieron programa de referencia y el programa indicado...\n",
    "\"\"\"\n",
    "df_superposicion_p_1 = pd.merge(df_comb, df_super_count, how=\"left\", on=[\"content_id\", \"periodo\", \"programa\", \"periodo_referencia\", \"programa_referencia\"])\n",
    "del df_superposicion_p_1['soporte_y']\n",
    "df_superposicion_p_1['dia'] = df_superposicion_p_1['periodo'].dt.date\n",
    "df_superposicion_p_1 = df_superposicion_p_1.rename(columns={\"soporte_x\": \"soporte\"}).copy()\n",
    "df_superposicion_p_1 = df_superposicion_p_1[[\"dia\", \"content_id\", \"soporte\", \"programa\", \"periodo\", \"hora\", \"programa_referencia\", \"periodo_referencia\", \"hora_referencia\", \"usuarios\"]]\n",
    "df_superposicion_p_1.usuarios = df_superposicion_p_1.usuarios.fillna(0)\n",
    "\n",
    "\"\"\"Necesitamos unir periodo_referencia a periodo y a periodo_referencia a la vez\n",
    "    Lo mismo con programa_referencia a programa y programa_referencia\n",
    "    y unir content_id con content_id\n",
    "\n",
    "    Debemos crear en df_superposición 2 una columna periodo aparte de la columna \n",
    "    periodo que ya contiene para hacerla calzar con periodo del df super_count\n",
    "    Como superposicion 2 ya tiene una columna periodo, la podemos crear como \n",
    "    'key_periodo' y en super_count cambiamos el nombre de la columna 'periodo' \n",
    "    por 'key_periodo'\n",
    "    \"\"\"\n",
    "df_superposicion_p_2 = df_superposicion_p_1.copy()\n",
    "df_superposicion_p_2['key_periodo'] = df_superposicion_p_2['periodo_referencia']\n",
    "df_superposicion_p_2['key_programa'] = df_superposicion_p_2['programa_referencia']\n",
    "\n",
    "df_super_count = df_super_count.rename(columns={\"periodo\": \"key_periodo\", \"programa\": \"key_programa\"})\n",
    "\n",
    "df_superposicion_p = pd.merge(df_superposicion_p_2, df_super_count, how=\"left\", on=[\"key_periodo\", \"periodo_referencia\", \"key_programa\", \"programa_referencia\", \"content_id\"])\n",
    "df_superposicion_p = df_superposicion_p.drop([\"key_periodo\", \"key_programa\", \"soporte_y\"], axis=1).copy()\n",
    "df_superposicion_p = df_superposicion_p.rename(columns={\"soporte_x\": \"soporte\", \"usuarios_x\": \"usuarios\", \"usuarios_y\": \"total\"})\n",
    "df_superposicion_p.total = df_superposicion_p.total.fillna(0)\n",
    "\n",
    "df_superposicion_p['segmento'] = 'no aplica'\n",
    "df_superposicion_p['tipo_tramo'] = \"Total\"\n",
    "df_superposicion_p[\"usuarios\"] = df_superposicion_p['usuarios'].astype('int64')\n",
    "df_superposicion_p[\"total\"] = df_superposicion_p['total'].astype('int64')\n",
    "df_superposicion_p = df_superposicion_p[[\"dia\", \"content_id\", \"soporte\", \"programa\", \"periodo\", \"hora\", \"programa_referencia\",\n",
    "                                        \"periodo_referencia\", \"hora_referencia\", \"usuarios\", \"total\", \"tipo_tramo\", \"segmento\"]]\n"
   ]
  },
  {
   "cell_type": "markdown",
   "metadata": {},
   "source": [
    "PRUEBA CONCATENACIÓN DE SUPERPOSICION PROGRAMAS TOTAL "
   ]
  },
  {
   "cell_type": "code",
   "execution_count": 15,
   "metadata": {},
   "outputs": [
    {
     "data": {
      "application/vnd.jupyter.widget-view+json": {
       "model_id": "505bca8f29d544b6a18739b817602c99",
       "version_major": 2,
       "version_minor": 0
      },
      "text/plain": [
       "  0%|          | 0/3 [00:00<?, ?it/s]"
      ]
     },
     "metadata": {},
     "output_type": "display_data"
    }
   ],
   "source": [
    "df_superposicion_genero = gen_df_genero(df_super, df_super_count, df_comb, df_list_genero)"
   ]
  },
  {
   "cell_type": "code",
   "execution_count": 16,
   "metadata": {},
   "outputs": [
    {
     "data": {
      "application/vnd.jupyter.widget-view+json": {
       "model_id": "040afad33ed441fa84a758876a8ab5bd",
       "version_major": 2,
       "version_minor": 0
      },
      "text/plain": [
       "  0%|          | 0/7 [00:00<?, ?it/s]"
      ]
     },
     "metadata": {},
     "output_type": "display_data"
    }
   ],
   "source": [
    "df_superposicion_radial = gen_df_tramos(df_super, df_super_count, df_comb, df_list_tramo)"
   ]
  },
  {
   "cell_type": "code",
   "execution_count": 17,
   "metadata": {},
   "outputs": [
    {
     "data": {
      "application/vnd.jupyter.widget-view+json": {
       "model_id": "a68246fbf5174af192345daf5a9c6a0d",
       "version_major": 2,
       "version_minor": 0
      },
      "text/plain": [
       "  0%|          | 0/7 [00:00<?, ?it/s]"
      ]
     },
     "metadata": {},
     "output_type": "display_data"
    }
   ],
   "source": [
    "df_superposicion_digital = gen_df_digital(df_super, df_super_count, df_comb, df_list_digital)"
   ]
  },
  {
   "cell_type": "code",
   "execution_count": 18,
   "metadata": {},
   "outputs": [
    {
     "data": {
      "application/vnd.jupyter.widget-view+json": {
       "model_id": "b7f6ebeeaebf41ab996423ea4353559a",
       "version_major": 2,
       "version_minor": 0
      },
      "text/plain": [
       "  0%|          | 0/6 [00:00<?, ?it/s]"
      ]
     },
     "metadata": {},
     "output_type": "display_data"
    }
   ],
   "source": [
    "df_superposicion_combinado = gen_df_combinados(df_super, df_super_count, df_comb, df_list_combinados)"
   ]
  },
  {
   "cell_type": "code",
   "execution_count": 19,
   "metadata": {},
   "outputs": [],
   "source": [
    "df_list_final = [df_superposicion_p, df_superposicion_genero,\n",
    "                 df_superposicion_radial, df_superposicion_digital,df_superposicion_combinado ]"
   ]
  },
  {
   "cell_type": "code",
   "execution_count": 20,
   "metadata": {},
   "outputs": [
    {
     "data": {
      "text/html": [
       "<div>\n",
       "<style scoped>\n",
       "    .dataframe tbody tr th:only-of-type {\n",
       "        vertical-align: middle;\n",
       "    }\n",
       "\n",
       "    .dataframe tbody tr th {\n",
       "        vertical-align: top;\n",
       "    }\n",
       "\n",
       "    .dataframe thead th {\n",
       "        text-align: right;\n",
       "    }\n",
       "</style>\n",
       "<table border=\"1\" class=\"dataframe\">\n",
       "  <thead>\n",
       "    <tr style=\"text-align: right;\">\n",
       "      <th></th>\n",
       "      <th>dia</th>\n",
       "      <th>content_id</th>\n",
       "      <th>soporte</th>\n",
       "      <th>programa</th>\n",
       "      <th>periodo</th>\n",
       "      <th>hora</th>\n",
       "      <th>programa_referencia</th>\n",
       "      <th>periodo_referencia</th>\n",
       "      <th>hora_referencia</th>\n",
       "      <th>usuarios</th>\n",
       "      <th>total</th>\n",
       "      <th>tipo_tramo</th>\n",
       "      <th>segmento</th>\n",
       "    </tr>\n",
       "  </thead>\n",
       "  <tbody>\n",
       "    <tr>\n",
       "      <th>0</th>\n",
       "      <td>2022-05-27</td>\n",
       "      <td>5c915724519bce27671c4d15</td>\n",
       "      <td>sonarfm.cl</td>\n",
       "      <td>radiotransmisor</td>\n",
       "      <td>2022-05-27 18:00:00</td>\n",
       "      <td>18:00:00</td>\n",
       "      <td>radiotransmisor</td>\n",
       "      <td>2022-05-27 18:00:00</td>\n",
       "      <td>18:00:00</td>\n",
       "      <td>17</td>\n",
       "      <td>17</td>\n",
       "      <td>Total</td>\n",
       "      <td>no aplica</td>\n",
       "    </tr>\n",
       "    <tr>\n",
       "      <th>1</th>\n",
       "      <td>2022-05-27</td>\n",
       "      <td>5c915724519bce27671c4d15</td>\n",
       "      <td>sonarfm.cl</td>\n",
       "      <td>radiotransmisor</td>\n",
       "      <td>2022-05-27 18:00:00</td>\n",
       "      <td>18:00:00</td>\n",
       "      <td>rock y guitarras</td>\n",
       "      <td>2022-05-27 10:00:00</td>\n",
       "      <td>10:00:00</td>\n",
       "      <td>9</td>\n",
       "      <td>66</td>\n",
       "      <td>Total</td>\n",
       "      <td>no aplica</td>\n",
       "    </tr>\n",
       "    <tr>\n",
       "      <th>2</th>\n",
       "      <td>2022-05-27</td>\n",
       "      <td>5c915724519bce27671c4d15</td>\n",
       "      <td>sonarfm.cl</td>\n",
       "      <td>radiotransmisor</td>\n",
       "      <td>2022-05-27 18:00:00</td>\n",
       "      <td>18:00:00</td>\n",
       "      <td>sonar héroes</td>\n",
       "      <td>2022-05-27 17:00:00</td>\n",
       "      <td>17:00:00</td>\n",
       "      <td>11</td>\n",
       "      <td>26</td>\n",
       "      <td>Total</td>\n",
       "      <td>no aplica</td>\n",
       "    </tr>\n",
       "    <tr>\n",
       "      <th>3</th>\n",
       "      <td>2022-05-27</td>\n",
       "      <td>5c915724519bce27671c4d15</td>\n",
       "      <td>sonarfm.cl</td>\n",
       "      <td>radiotransmisor</td>\n",
       "      <td>2022-05-27 18:00:00</td>\n",
       "      <td>18:00:00</td>\n",
       "      <td>bloque musical sonar</td>\n",
       "      <td>2022-05-27 13:00:00</td>\n",
       "      <td>13:00:00</td>\n",
       "      <td>8</td>\n",
       "      <td>49</td>\n",
       "      <td>Total</td>\n",
       "      <td>no aplica</td>\n",
       "    </tr>\n",
       "    <tr>\n",
       "      <th>4</th>\n",
       "      <td>2022-05-27</td>\n",
       "      <td>5c915724519bce27671c4d15</td>\n",
       "      <td>sonarfm.cl</td>\n",
       "      <td>radiotransmisor</td>\n",
       "      <td>2022-05-27 18:00:00</td>\n",
       "      <td>18:00:00</td>\n",
       "      <td>sonar deportivo</td>\n",
       "      <td>2022-05-27 09:00:00</td>\n",
       "      <td>09:00:00</td>\n",
       "      <td>6</td>\n",
       "      <td>58</td>\n",
       "      <td>Total</td>\n",
       "      <td>no aplica</td>\n",
       "    </tr>\n",
       "    <tr>\n",
       "      <th>...</th>\n",
       "      <td>...</td>\n",
       "      <td>...</td>\n",
       "      <td>...</td>\n",
       "      <td>...</td>\n",
       "      <td>...</td>\n",
       "      <td>...</td>\n",
       "      <td>...</td>\n",
       "      <td>...</td>\n",
       "      <td>...</td>\n",
       "      <td>...</td>\n",
       "      <td>...</td>\n",
       "      <td>...</td>\n",
       "      <td>...</td>\n",
       "    </tr>\n",
       "    <tr>\n",
       "      <th>1179329</th>\n",
       "      <td>2022-09-01</td>\n",
       "      <td>601415b58308405b0d11c82a</td>\n",
       "      <td>horizonte.cl</td>\n",
       "      <td>fina seleccion</td>\n",
       "      <td>2022-09-01 18:00:00</td>\n",
       "      <td>18:00:00</td>\n",
       "      <td>fina seleccion</td>\n",
       "      <td>2022-09-01 18:00:00</td>\n",
       "      <td>18:00:00</td>\n",
       "      <td>1</td>\n",
       "      <td>45</td>\n",
       "      <td>Género Digital</td>\n",
       "      <td>otro género 25 - 34</td>\n",
       "    </tr>\n",
       "    <tr>\n",
       "      <th>1179330</th>\n",
       "      <td>2022-09-01</td>\n",
       "      <td>5c8d6406f98fbf269f57c82c</td>\n",
       "      <td>playfm.cl</td>\n",
       "      <td>playpower</td>\n",
       "      <td>2022-09-01 18:00:00</td>\n",
       "      <td>18:00:00</td>\n",
       "      <td>playpower</td>\n",
       "      <td>2022-09-01 18:00:00</td>\n",
       "      <td>18:00:00</td>\n",
       "      <td>1</td>\n",
       "      <td>70</td>\n",
       "      <td>Género Digital</td>\n",
       "      <td>otro género 25 - 34</td>\n",
       "    </tr>\n",
       "    <tr>\n",
       "      <th>1179331</th>\n",
       "      <td>2022-09-01</td>\n",
       "      <td>5c8d6406f98fbf269f57c82c</td>\n",
       "      <td>playfm.cl</td>\n",
       "      <td>playpower</td>\n",
       "      <td>2022-09-01 18:00:00</td>\n",
       "      <td>18:00:00</td>\n",
       "      <td>playlist</td>\n",
       "      <td>2022-09-01 16:00:00</td>\n",
       "      <td>16:00:00</td>\n",
       "      <td>1</td>\n",
       "      <td>137</td>\n",
       "      <td>Género Digital</td>\n",
       "      <td>otro género 25 - 34</td>\n",
       "    </tr>\n",
       "    <tr>\n",
       "      <th>1179332</th>\n",
       "      <td>2022-09-01</td>\n",
       "      <td>5c8d6406f98fbf269f57c82c</td>\n",
       "      <td>playfm.cl</td>\n",
       "      <td>playlist</td>\n",
       "      <td>2022-09-01 16:00:00</td>\n",
       "      <td>16:00:00</td>\n",
       "      <td>playpower</td>\n",
       "      <td>2022-09-01 18:00:00</td>\n",
       "      <td>18:00:00</td>\n",
       "      <td>1</td>\n",
       "      <td>70</td>\n",
       "      <td>Género Digital</td>\n",
       "      <td>otro género 25 - 34</td>\n",
       "    </tr>\n",
       "    <tr>\n",
       "      <th>1179333</th>\n",
       "      <td>2022-09-01</td>\n",
       "      <td>5c8d6406f98fbf269f57c82c</td>\n",
       "      <td>playfm.cl</td>\n",
       "      <td>playlist</td>\n",
       "      <td>2022-09-01 16:00:00</td>\n",
       "      <td>16:00:00</td>\n",
       "      <td>playlist</td>\n",
       "      <td>2022-09-01 16:00:00</td>\n",
       "      <td>16:00:00</td>\n",
       "      <td>1</td>\n",
       "      <td>137</td>\n",
       "      <td>Género Digital</td>\n",
       "      <td>otro género 25 - 34</td>\n",
       "    </tr>\n",
       "  </tbody>\n",
       "</table>\n",
       "<p>1179334 rows × 13 columns</p>\n",
       "</div>"
      ],
      "text/plain": [
       "                dia                content_id       soporte         programa  \\\n",
       "0        2022-05-27  5c915724519bce27671c4d15    sonarfm.cl  radiotransmisor   \n",
       "1        2022-05-27  5c915724519bce27671c4d15    sonarfm.cl  radiotransmisor   \n",
       "2        2022-05-27  5c915724519bce27671c4d15    sonarfm.cl  radiotransmisor   \n",
       "3        2022-05-27  5c915724519bce27671c4d15    sonarfm.cl  radiotransmisor   \n",
       "4        2022-05-27  5c915724519bce27671c4d15    sonarfm.cl  radiotransmisor   \n",
       "...             ...                       ...           ...              ...   \n",
       "1179329  2022-09-01  601415b58308405b0d11c82a  horizonte.cl   fina seleccion   \n",
       "1179330  2022-09-01  5c8d6406f98fbf269f57c82c     playfm.cl        playpower   \n",
       "1179331  2022-09-01  5c8d6406f98fbf269f57c82c     playfm.cl        playpower   \n",
       "1179332  2022-09-01  5c8d6406f98fbf269f57c82c     playfm.cl         playlist   \n",
       "1179333  2022-09-01  5c8d6406f98fbf269f57c82c     playfm.cl         playlist   \n",
       "\n",
       "                    periodo      hora   programa_referencia  \\\n",
       "0       2022-05-27 18:00:00  18:00:00       radiotransmisor   \n",
       "1       2022-05-27 18:00:00  18:00:00      rock y guitarras   \n",
       "2       2022-05-27 18:00:00  18:00:00          sonar héroes   \n",
       "3       2022-05-27 18:00:00  18:00:00  bloque musical sonar   \n",
       "4       2022-05-27 18:00:00  18:00:00       sonar deportivo   \n",
       "...                     ...       ...                   ...   \n",
       "1179329 2022-09-01 18:00:00  18:00:00        fina seleccion   \n",
       "1179330 2022-09-01 18:00:00  18:00:00             playpower   \n",
       "1179331 2022-09-01 18:00:00  18:00:00              playlist   \n",
       "1179332 2022-09-01 16:00:00  16:00:00             playpower   \n",
       "1179333 2022-09-01 16:00:00  16:00:00              playlist   \n",
       "\n",
       "         periodo_referencia hora_referencia  usuarios  total      tipo_tramo  \\\n",
       "0       2022-05-27 18:00:00        18:00:00        17     17           Total   \n",
       "1       2022-05-27 10:00:00        10:00:00         9     66           Total   \n",
       "2       2022-05-27 17:00:00        17:00:00        11     26           Total   \n",
       "3       2022-05-27 13:00:00        13:00:00         8     49           Total   \n",
       "4       2022-05-27 09:00:00        09:00:00         6     58           Total   \n",
       "...                     ...             ...       ...    ...             ...   \n",
       "1179329 2022-09-01 18:00:00        18:00:00         1     45  Género Digital   \n",
       "1179330 2022-09-01 18:00:00        18:00:00         1     70  Género Digital   \n",
       "1179331 2022-09-01 16:00:00        16:00:00         1    137  Género Digital   \n",
       "1179332 2022-09-01 18:00:00        18:00:00         1     70  Género Digital   \n",
       "1179333 2022-09-01 16:00:00        16:00:00         1    137  Género Digital   \n",
       "\n",
       "                    segmento  \n",
       "0                  no aplica  \n",
       "1                  no aplica  \n",
       "2                  no aplica  \n",
       "3                  no aplica  \n",
       "4                  no aplica  \n",
       "...                      ...  \n",
       "1179329  otro género 25 - 34  \n",
       "1179330  otro género 25 - 34  \n",
       "1179331  otro género 25 - 34  \n",
       "1179332  otro género 25 - 34  \n",
       "1179333  otro género 25 - 34  \n",
       "\n",
       "[1179334 rows x 13 columns]"
      ]
     },
     "execution_count": 20,
     "metadata": {},
     "output_type": "execute_result"
    }
   ],
   "source": [
    "df_super_final = pd.concat(objs=df_list_final, axis=0)\n",
    "df_super_final.reset_index(drop=True)"
   ]
  },
  {
   "cell_type": "code",
   "execution_count": 21,
   "metadata": {},
   "outputs": [
    {
     "data": {
      "text/plain": [
       "LoadJob<project=conexion-datos-rdf, location=US, id=226f8aaf-1dd1-4bc3-9082-decbb3ae808b>"
      ]
     },
     "execution_count": 21,
     "metadata": {},
     "output_type": "execute_result"
    }
   ],
   "source": [
    "# tabla big query a utilizar\n",
    "bq_table = \"conexion-datos-rdf.consumo.superposicion_prog_segmentos\"\n",
    "\n",
    "client = bigquery.Client.from_service_account_json(_google_key)\n",
    "schema = []\n",
    "job_config = bigquery.LoadJobConfig(\n",
    "    schema=schema,\n",
    "    write_disposition=\"WRITE_TRUNCATE\",\n",
    "    #clustering_fields=[\"email\", \"envio\"],\n",
    "    time_partitioning=bigquery.TimePartitioning(\n",
    "        type_=bigquery.TimePartitioningType.DAY,\n",
    "        field=\"dia\",  # name of column to use for partitioning\n",
    "    ))\n",
    "# Make an API request.\n",
    "job = client.load_table_from_dataframe(\n",
    "    df_super_final, bq_table, job_config=job_config)\n",
    "job.result()  # Wait for the job to complete.\n"
   ]
  }
 ],
 "metadata": {
  "kernelspec": {
   "display_name": "Python 3.8.8 64-bit",
   "language": "python",
   "name": "python3"
  },
  "language_info": {
   "codemirror_mode": {
    "name": "ipython",
    "version": 3
   },
   "file_extension": ".py",
   "mimetype": "text/x-python",
   "name": "python",
   "nbconvert_exporter": "python",
   "pygments_lexer": "ipython3",
   "version": "3.8.8"
  },
  "orig_nbformat": 4,
  "vscode": {
   "interpreter": {
    "hash": "2c6fbda2488a67f21337359f03bca5305f1d74b510f165862164d92d24f216f3"
   }
  }
 },
 "nbformat": 4,
 "nbformat_minor": 2
}
