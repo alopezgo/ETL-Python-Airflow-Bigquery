{
 "cells": [
  {
   "cell_type": "code",
   "execution_count": 3,
   "metadata": {},
   "outputs": [],
   "source": [
    "#Importar librería gbq\n",
    "import pandas as pd\n",
    "import itertools\n",
    "from google.cloud import bigquery\n",
    "\n"
   ]
  },
  {
   "cell_type": "code",
   "execution_count": 4,
   "metadata": {},
   "outputs": [],
   "source": [
    "# Autenticación\n",
    "client = bigquery.Client()\n",
    "\n",
    "# crear archivo\n",
    "archivo = '../../../Correos shows Mailing/Catalogo_mailing_grupos.xlsx'\n",
    "excel_writer = pd.ExcelWriter(archivo, engine=\"xlsxwriter\")\n",
    "\n",
    "lista_grupos = [\n",
    "    'shows',\n",
    "    'deportivos',\n",
    "    'ficciones']\n",
    "\n",
    "nombre_rdf = {\n",
    "    \"shows\": \"Shows\", \n",
    "    \"deportivos\" : \"Deportivos\",\n",
    "    \"ficciones\": \"Ficciones\"}\n"
   ]
  },
  {
   "cell_type": "code",
   "execution_count": 5,
   "metadata": {},
   "outputs": [],
   "source": [
    "for show in range(len(lista_grupos)):\n",
    "\n",
    "    query_grupos = \"\"\"\n",
    "    with consumo as (\n",
    "    SELECT distinct dicc_shows._id, dicc_shows.title, usuarios_unicos.email\n",
    "    FROM `conexion-datos-rdf.usuarios.usuarios_emisor` AS usuarios_unicos\n",
    "    LEFT JOIN`conexion-datos-rdf.consumo_usuarios.consumo_mensual_content` AS consumo_usuarios\n",
    "    ON usuarios_unicos.platform_id = consumo_usuarios.user_id\n",
    "    LEFT JOIN `conexion-datos-rdf.dicc_medios.dicc_medios` AS dicc_medios\n",
    "    ON consumo_usuarios.content_id = dicc_medios.media_id\n",
    "    LEFT JOIN `conexion-datos-rdf.diccionarios.dicc_shows` AS dicc_shows\n",
    "    ON dicc_medios.show_id = dicc_shows._id), \n",
    "\n",
    "    shows as ( \n",
    "    select distinct consumo.email \n",
    "    from consumo where consumo._id in (\n",
    "        '5cc0d1173477b8633b077e41', '5f2ac786f815b70768cc3228', \n",
    "        '5e3825c34948a26cf6148327', '5cc330a7982853083c925a34',\n",
    "        '603d4a8276a72f07eafc2e00', '5cc1cd433477b8633b077e4e', \n",
    "        '5c91d11241133e279ac3ae9c','60d23f724a86db086588f80e', \n",
    "        '5c91d11141133e279ac3ae9a','5ddc451635a6b907b3a311a2', \n",
    "        '5cc45fd8300fab43398c9501', '5e84f12d5efbf109f2113f7e', \n",
    "        '5ca2623760d338056118c923', '5f2b0f2674c51b07c018e151')),\n",
    "\n",
    "    deportivos as ( \n",
    "    Select distinct consumo.email\n",
    "    from consumo \n",
    "    left outer join shows\n",
    "    on consumo.email = shows.email\n",
    "    where consumo._id in (\n",
    "        '633b35809eae4457a1c12a8b', '61f2dc0b55b34a084bb4040d', \n",
    "        '60c2d54896ecd50835f7023b','5f282d6ed9c4f53eefb9d3a6',\n",
    "        '5eb2de321075c570328bf8ca','632244c62fe6940836b9b924',\n",
    "        '5d02cb517fd8f34a99f13e0b','5cf98c6dc2b9a60768711e36')\n",
    "        and shows.email is null),\n",
    "\n",
    "    ficciones as ( \n",
    "    Select distinct consumo.email\n",
    "    from consumo \n",
    "    left outer join shows\n",
    "    on consumo.email = shows.email\n",
    "    where consumo._id in (\n",
    "        '632a06fdb7642562b6cb35a7','5f89b5c5f48bc20833b4ab2e',\n",
    "        '60a2753c778b950838da9823','5e89fcdb6315583216a781f6',\n",
    "        '5ffc2e0e9d178e63a402bfca','6165b91c61a232240994d193',\n",
    "        '623b8332381bae08433d4381','5f15a254ba175108875c78c5',\n",
    "        '5d110bba8d37311f4dd48459','611139e4c8b8c6084b6812c5',\n",
    "        '5f80c9f70334d4082d84f385','60df3534541ab20860650422',\n",
    "        '5f3f2ba9270a4f51cdd04109','5ddc451635a6b907b3a311a2',\n",
    "        '5ddc4dc0487b8a07bd684d61','5ddc525cf4e0ae079d308bf9',\n",
    "        '5ddc561b89d8670a2c41182c','5ddc5785487b8a07bd684d6e',\n",
    "        '603d4a8276a72f07eafc2e00', '61e18e87124d6b390b1cc65d')\n",
    "        and shows.email is null)\n",
    "\n",
    "    select * from {0}\n",
    "\n",
    "    \"\"\".format(lista_grupos[show])\n",
    "\n",
    "    df_shows = client.query(query_grupos).result().to_dataframe( create_bqstorage_client=False)  \n",
    "    df_shows[\"show\"] = nombre_rdf[lista_grupos[show]]\n",
    "    df_shows.to_excel(excel_writer, sheet_name=lista_grupos[show], index=False)"
   ]
  },
  {
   "cell_type": "code",
   "execution_count": 6,
   "metadata": {},
   "outputs": [],
   "source": [
    "excel_writer.save()"
   ]
  }
 ],
 "metadata": {
  "kernelspec": {
   "display_name": "Python 3.8.8 ('base')",
   "language": "python",
   "name": "python3"
  },
  "language_info": {
   "codemirror_mode": {
    "name": "ipython",
    "version": 3
   },
   "file_extension": ".py",
   "mimetype": "text/x-python",
   "name": "python",
   "nbconvert_exporter": "python",
   "pygments_lexer": "ipython3",
   "version": "3.8.8"
  },
  "orig_nbformat": 4,
  "vscode": {
   "interpreter": {
    "hash": "2c6fbda2488a67f21337359f03bca5305f1d74b510f165862164d92d24f216f3"
   }
  }
 },
 "nbformat": 4,
 "nbformat_minor": 2
}
