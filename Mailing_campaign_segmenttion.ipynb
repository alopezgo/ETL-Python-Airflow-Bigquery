{
 "cells": [
  {
   "cell_type": "code",
   "execution_count": 1,
   "metadata": {},
   "outputs": [],
   "source": [
    "#IMPORTACIÓN DE LIBRERÍAS\n",
    "from google.cloud import bigquery\n",
    "client = bigquery.Client()"
   ]
  },
  {
   "cell_type": "code",
   "execution_count": 43,
   "metadata": {},
   "outputs": [],
   "source": [
    "def tag_genero(genero:str):\n",
    "    query_genero= \"\"\"\n",
    "    SELECT email\n",
    "    FROM `conexion-datos-rdf.usuarios.ficha_rdf`\n",
    "    WHERE genero = {0}\n",
    "    \"\"\".format(genero)\n",
    "    dicc_susc = client.query(query_genero).result().to_dataframe(create_bqstorage_client=False)\n",
    "    dicc_susc = dicc_susc.to_json()\n",
    "    return dicc_susc"
   ]
  },
  {
   "cell_type": "code",
   "execution_count": 44,
   "metadata": {},
   "outputs": [],
   "source": [
    "def tag_edad(tramo:str):\n",
    "\n",
    "    query_edad = \"\"\"\n",
    "    SELECT email\n",
    "    FROM `conexion-datos-rdf.usuarios.ficha_rdf`\n",
    "    WHERE redad_ipsos = {0}\n",
    "    \"\"\".format(edad)\n",
    "    dicc_susc = client.query(query_edad).result().to_dataframe(create_bqstorage_client=False)\n",
    "    dicc_susc = dicc_susc.to_json()\n",
    "\n",
    "    return dicc_susc"
   ]
  },
  {
   "cell_type": "code",
   "execution_count": 45,
   "metadata": {},
   "outputs": [],
   "source": [
    "def tag_region(region:str):\n",
    "    query_region = \"\"\"\n",
    "    SELECT email\n",
    "    FROM `conexion-datos-rdf.usuarios.ficha_rdf`\n",
    "    WHERE region = {0}\n",
    "    \"\"\".format(region)\n",
    "\n",
    "    dicc_susc = client.query(query_region).result().to_dataframe(create_bqstorage_client=False)\n",
    "    dicc_susc = dicc_susc.to_json()\n",
    "    \n",
    "    return dicc_susc"
   ]
  },
  {
   "cell_type": "code",
   "execution_count": 46,
   "metadata": {},
   "outputs": [],
   "source": [
    "def tag_grupo_shows(grupo: str):\n",
    "  query_grupos_shows = \"\"\"\n",
    "  with consumo as (\n",
    "    SELECT distinct dicc_shows._id, dicc_shows.title, usuarios_unicos.email\n",
    "    FROM `conexion-datos-rdf.usuarios.usuarios_emisor` AS usuarios_unicos\n",
    "    LEFT JOIN`conexion-datos-rdf.consumo_usuarios.consumo_mensual_content` AS consumo_usuarios\n",
    "    ON usuarios_unicos.platform_id = consumo_usuarios.user_id\n",
    "    LEFT JOIN `conexion-datos-rdf.dicc_medios.dicc_medios` AS dicc_medios\n",
    "    ON consumo_usuarios.content_id = dicc_medios.media_id\n",
    "    LEFT JOIN `conexion-datos-rdf.diccionarios.dicc_shows` AS dicc_shows\n",
    "    ON dicc_medios.show_id = dicc_shows._id) \n",
    "\n",
    "  SELECT distinct consumo.email \n",
    "  FROM consumo where consumo._id in {0}\n",
    "  \"\"\".format(grupo)\n",
    "  dicc_susc = client.query(query_grupos_shows).result().to_dataframe(create_bqstorage_client=False)\n",
    "  dicc_susc = dicc_susc.to_json()\n",
    "  \n",
    "  return dicc_susc"
   ]
  },
  {
   "cell_type": "code",
   "execution_count": 47,
   "metadata": {},
   "outputs": [],
   "source": [
    "def tag_shows(show : str):\n",
    "  query_shows = \"\"\"\n",
    "  with consumo as (\n",
    "    SELECT distinct dicc_shows._id, dicc_shows.title, usuarios_unicos.email\n",
    "    FROM `conexion-datos-rdf.usuarios.usuarios_emisor` AS usuarios_unicos\n",
    "    LEFT JOIN`conexion-datos-rdf.consumo_usuarios.consumo_mensual_content` AS consumo_usuarios\n",
    "    ON usuarios_unicos.platform_id = consumo_usuarios.user_id\n",
    "    LEFT JOIN `conexion-datos-rdf.dicc_medios.dicc_medios` AS dicc_medios\n",
    "    ON consumo_usuarios.content_id = dicc_medios.media_id\n",
    "    LEFT JOIN `conexion-datos-rdf.diccionarios.dicc_shows` AS dicc_shows\n",
    "    ON dicc_medios.show_id = dicc_shows._id) \n",
    "\n",
    "  SELECT distinct consumo.email \n",
    "  FROM consumo where consumo._id in {0}\n",
    "  \"\"\".format(show)\n",
    "\n",
    "  dicc_susc = client.query(query_shows).result().to_dataframe(create_bqstorage_client=False)\n",
    "  dicc_susc = dicc_susc.to_json()\n",
    "  \n",
    "  return dicc_susc"
   ]
  },
  {
   "cell_type": "code",
   "execution_count": 48,
   "metadata": {},
   "outputs": [],
   "source": [
    "def tag_bool(parametro :str):\n",
    "    query_bool = \"\"\"\n",
    "    SELECT email\n",
    "    FROM `conexion-datos-rdf.usuarios.ficha_rdf`\n",
    "    WHERE {0} = true\n",
    "    \"\"\".format(parametro)\n",
    "    dicc_susc = client.query(query_bool).result().to_dataframe(create_bqstorage_client=False)\n",
    "    dicc_susc = dicc_susc.to_json()\n",
    "    \n",
    "    return dicc_susc\n",
    "    "
   ]
  },
  {
   "cell_type": "code",
   "execution_count": null,
   "metadata": {},
   "outputs": [],
   "source": [
    "tag_g_mujer= tag_genero(genero[0])\n",
    "tag_g_hombre= tag_genero(genero[1])\n",
    "\n",
    "tag_e_15a19 = tag_edad(edad[0])\n",
    "tag_e_20a24 = tag_edad(edad[1])\n",
    "tag_e_25a34 = tag_edad(edad[2])\n",
    "tag_e_35a44 = tag_edad(edad[3])\n",
    "tag_e_45a59 = tag_edad(edad[4])\n",
    "tag_e_60a90 = tag_edad(edad[5])\n",
    "\n",
    "tag_r_metropolitana = tag_region(region[0])\n",
    "tag_r_arica = tag_region(region[1])\n",
    "tag_r_biobio = tag_region(region[2])\n",
    "tag_r_tarapaca = tag_region(region[3])\n",
    "tag_r_maule = tag_region(region[4])\n",
    "tag_r_lagos = tag_region(region[5])\n",
    "tag_r_araucania = tag_region(region[6])\n",
    "tag_r_ohiggins = tag_region(region[7])\n",
    "tag_r_ñuble = tag_region(region[8])\n",
    "tag_r_antofagasta = tag_region(region[9])\n",
    "tag_r_rios = tag_region(region[10])\n",
    "tag_r_coquimbo = tag_region(region[11])\n",
    "tag_r_valparaiso = tag_region(region[12])\n",
    "tag_r_aysen = tag_region(region[13])\n",
    "tag_r_atacama = tag_region(region[14])\n",
    "tag_r_magallanes = tag_region(region[15])\n",
    "\n",
    "tag_varios = tag_grupo_shows(list_grupos_shows[0])\n",
    "tag_deportivos = tag_grupo_shows(list_grupos_shows[1])\n",
    "tag_ficciones = tag_grupo_shows(list_grupos_shows[2])\n",
    "\n",
    "tag_rutasecreta = tag_shows(list_shows[0])\n",
    "tag_historiafreak = tag_shows(list_shows[1])\n",
    "tag_cocavi = tag_shows(list_shows[2])\n",
    "tag_eneup = tag_shows(list_shows[3])\n",
    "tag_oficio = tag_shows(list_shows[4])\n",
    "\n",
    "tag_consumo_correos = tag_bool(list_parametros[0])\n",
    "tag_consumo_live = tag_bool(list_parametros[1])\n",
    "tag_consumo_od = tag_bool(list_parametros[2])\n",
    "tag_consumo = tag_bool(list_parametros[3])\n",
    "tag_desktop = tag_bool(list_parametros[4])\n",
    "tag_mobile = tag_bool(list_parametros[5])\n",
    "tag_apps = tag_bool(list_parametros[6])\n",
    "tag_cia = tag_bool(list_parametros[7])"
   ]
  }
 ],
 "metadata": {
  "kernelspec": {
   "display_name": "Python 3.8.8 ('base')",
   "language": "python",
   "name": "python3"
  },
  "language_info": {
   "codemirror_mode": {
    "name": "ipython",
    "version": 3
   },
   "file_extension": ".py",
   "mimetype": "text/x-python",
   "name": "python",
   "nbconvert_exporter": "python",
   "pygments_lexer": "ipython3",
   "version": "3.8.8"
  },
  "orig_nbformat": 4,
  "vscode": {
   "interpreter": {
    "hash": "2c6fbda2488a67f21337359f03bca5305f1d74b510f165862164d92d24f216f3"
   }
  }
 },
 "nbformat": 4,
 "nbformat_minor": 2
}
